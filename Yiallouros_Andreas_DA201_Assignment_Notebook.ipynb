{
 "cells": [
  {
   "cell_type": "markdown",
   "id": "4cd1b2d9",
   "metadata": {},
   "source": [
    "# <span style=\"color:purple\">Diagnostic Analysis on Missed Appointments with General Practitioners and Other NHS Healthcare Providers"
   ]
  },
  {
   "cell_type": "markdown",
   "id": "4111856e",
   "metadata": {},
   "source": [
    "# <span style=\"color:purple\">Activity 1"
   ]
  },
  {
   "cell_type": "markdown",
   "id": "dd66e6ed",
   "metadata": {},
   "source": [
    "## <span style=\"color:purple\">GitHub repository\n",
    "In case you haven't seen it yet, here's a link to our [GitHub repo](https://github.com/andreas-yiallouros/LSE_DA_Course_NHS_GP_Appointments)!"
   ]
  },
  {
   "cell_type": "markdown",
   "id": "3d39851b",
   "metadata": {},
   "source": [
    "## <span style=\"color:purple\">Purpose of this diagnostic analysis project\n",
    "\n",
    "First, thank you for taking the time and showing interest in our work. We are passionate about supporting the healthcare system in England and across the UK, so any feedback or suggestions you may have on our analysis (and of course any of your own analysis or built on ours) will be very welcome.\\\n",
    "\\\n",
    "The purpose of this notebook is to analyse the data on the UK public's appointments with General Practitioners (GPs) and other healthcare providers at the National Health Service (NHS) in England. We want to get closer to understanding enough about why patients may miss appointments, and through this understanding enable decision makers at the NHS and the UK government reach decisions that will reduce the number of missed apppointments.\\\n",
    "\\\n",
    "For more on the purpose of this project, please read the project's [README file](https://github.com/andreas-yiallouros/LSE_DA_Course_NHS_GP_Appointments/blob/main/README.md). "
   ]
  },
  {
   "cell_type": "markdown",
   "id": "8f5c57d6",
   "metadata": {},
   "source": [
    "# <span style=\"color:purple\">Activity 2"
   ]
  },
  {
   "cell_type": "markdown",
   "id": "b38bc7ba",
   "metadata": {},
   "source": [
    "## <span style=\"color:purple\">Part 1 of 2: Get familiar with the metadata file"
   ]
  },
  {
   "cell_type": "markdown",
   "id": "01919e04",
   "metadata": {},
   "source": [
    "<span style=\"color:purple\">**Note:**\\\n",
    "What follows between this point and the section titled **'Activity 2'** is my notes from familiarising myself with the datasets and the metadata.\\\n",
    "    Feel free to skip ahead to the section on Activity 2!"
   ]
  },
  {
   "cell_type": "markdown",
   "id": "50037d2b",
   "metadata": {},
   "source": [
    "## 1. The data files at a high level\n",
    "To begin with, we had the following data files:\\\n",
    "\\\n",
    "Data:\n",
    "- *actual_duration.csv*\n",
    "- *appointments_regional.csv* \n",
    "- *national_categories.xlsx*\n",
    "\n",
    "Metadata:\n",
    "- *metadata_nhs.txt* (covers all three data files)\n",
    "\n",
    "These files were too large to add to our [GitHub repo](https://github.com/andreas-yiallouros/LSE_DA_Course_NHS_GP_Appointments). However, we can share them individually with anyone who may want to replicate or build on our analysis.\\\n",
    "\\\n",
    "It may be helpful to our readers to know upfront a bit on what the title of each file tells us about the data within.\\\n",
    "\\\n",
    "**actual_duration.csv** categorises appointments by *'geographic region'* and *'appointment date'*, but also by: \n",
    "* the *'appointments recorded duration'* (for example, 1-5 minutes, 6-10 minutes, etc.).\n",
    "\n",
    "**appointments_regional.csv** categorises appointments by *'geographic region'* and *'appointment month'*, but also by: \n",
    "* *'status'* referring to whether the appointment was attended.\n",
    "* *'healthcare professional type'* referring to whether the appointment was with a GP or other healthcare professional.\n",
    "* *'mode'* referring to whether the appointment was face-to-face at the surgery; a remote consultation; a home visit; etc.\n",
    "* *'amount of time between when the appointment was booked and the appointment'*.\n",
    "\n",
    "**national_categories.xlsx** categorises appointments by *'geographic region'* and *'appointment date'*, but also by:\n",
    "* *'setting'* referring to whether the appointment was with a GP in core hours, with a GP in extended hours, or healthcare professionals other than GPs.\n",
    "* *'national category'* referring to the type of service provided (for example, consultation or clinical procedure).\n",
    "\n",
    "Below, we expand much further on what is being measured by our data. "
   ]
  },
  {
   "cell_type": "markdown",
   "id": "f9514419",
   "metadata": {},
   "source": [
    "## 2. The metadata file in detail\n",
    "*metadata_nhs.txt* tells us about: \n",
    "- the quality of the data we have for our project\n",
    "- collectively what's in the three data files"
   ]
  },
  {
   "cell_type": "markdown",
   "id": "b34e8194",
   "metadata": {},
   "source": [
    "### 2.1. A note on data quality\n",
    "The most important point to note is that our data was collected from systems that were designed to help manage appointments. Our data therefore, is different compared to what it would have been had it been collected by systems designed to enable analysis to inform policy decisions."
   ]
  },
  {
   "cell_type": "markdown",
   "id": "47288682",
   "metadata": {},
   "source": [
    "### 2.2. Data fields highlighted in the metadata file, and specific data quality issues\n",
    "At the start of our project, each of our three data files had been partially cleaned by for example removing columns that were considered irrelevant to our analysis.\\\n",
    "\\\n",
    "The data fields highlighted most prominently in the metadata file are:\n",
    "1. Appointment Status\n",
    "2. Healthcare Professional Type\n",
    "3. Mode of Appointment\n",
    "4. Time between Booking and Appointment\n",
    "\n",
    "Below we consider what the metadata tells us about each of these four data fields. This is important because it will help us focus our initial analysis.\n",
    "\n",
    "##### (1) Appointment Status (appointment_status)\n",
    "The Appointment Status for each appointment changes over time moving from (1) 'Available' to (2) 'Booked' to (3) 'Attended' or 'Did Not Attend' or 'Cancelled'.\n",
    "\n",
    "<span style=\"color:purple\">Question:\n",
    "Do cancelled appointments revert to 'available'?</span>\n",
    "\n",
    "##### Two data issues are noted in the metadata file\n",
    "1. For between 3% and 6% of appointments the final status of the appointment remains 'Booked'. The status of these appointments in our dataset is reported as 'Unknown'.\n",
    "2. Due to an issue with data collection, missed appointments are under-reported for the period from July 2018 until and including November 2018 (five months). ***Note:*** *We will use our analysis to evaluate the impact of this issue on the reliability of the missed appointments statistics.*\n",
    "\n",
    "<span style=\"color:purple\">Insight: If the appointments that continue showing as 'Booked' after the appointment time has lapsed are more likely to be in fact missed appointments, the missed appointments statistic will be understated. For example, if out of 100 appointments five are known to have been missed and three are shown as unknown, but in fact we know they have also been missed, the true rate of missed appointments would be 8% instead of the reported 5.2% (1 - 92/97).</span>\n",
    "\n",
    "##### (2) Healthcare Professional (hcp_type)\n",
    "The healthcare professional type data point for each appointment is based on what's recorded as the occupation of the NHS employee attending the appointment. Due to data extraction issues our data shows only the value 'GP' and 'Other Practice Staff'. We are told in the metadata that a small proportion of GP appointments (for example some of the appointments with Trainee GPs or GP Partners) may be misclassified as appointments with other practice staff.\n",
    "\n",
    "<span style=\"color:purple\">Questions:\n",
    "- <span style=\"color:purple\">What is the definition of 'small' in 'small proportion of GP appointments'?\n",
    "- <span style=\"color:purple\">To what extent could this data issue impact the answer to our key questions about whether there has been adequate staff and capacity, and what was the utilisation of resources?</span>\n",
    "\n",
    "##### (3) Mode of Appointment (appointment_mode)\n",
    "\n",
    "<span style=\"color:purple\">Insights: \n",
    "- <span style=\"color:purple\">The data on the mode of appointments (for example face-to-face, telephone, online, or home visits) is important because it could show us differences in the likelihood of appointments being missed depending on their mode. Knowing about such differences can inform decisions about reducing the rate of missed appointments.\n",
    "\n",
    "- <span style=\"color:purple\">Based on the metadata file there seem to be widespread data quality issues in how the mode of appointment is recorded.\n",
    "\n",
    "***Note:*** *We will consider the implications of these issues for the purposes of our analysis.*\n",
    "\n",
    "##### (4) Time between Booking and Appointment (time_between_book_and_appointment)\n",
    "The metadata file doesn't mention quality issues for the data about the time elapsed between when the booking was made and when the appointment happened.\\\n",
    "\\\n",
    "<span style=\"color:purple\">Insight: It may be helpful for the purposes of our project to consider the relationship between this data point and the data on missed appointments. For example are appointments more likely to be missed when the elapsed time between booking and the appointment is longer?</span>"
   ]
  },
  {
   "cell_type": "markdown",
   "id": "b32909bf",
   "metadata": {},
   "source": [
    "### 2.3. What could the rest of the data fields tell us?\n",
    "In this section, to further set the context for our data analysis, we consider what the metadata file tells us for the following data fields which are the the subject of the objectives for activity #2:\n",
    "1. Service settings\n",
    "2. Context types\n",
    "3. National categories\n",
    "\n",
    "#### (1) Service settings\n",
    "The metadata for 'Service settings' seems more technical compared to that for the first four fields considered above. \n",
    "\n",
    "In my interpretation aided by Google searches for the terms ['GMS/PMS/APMS contracts'](https://www.bma.org.uk/advice-and-support/gp-practices/funding-and-contracts/gms-contract-and-pms-agreement-differences); ['Additional Roles Reimursement Scheme'](https://www.england.nhs.uk/gp/expanding-our-workforce/); and ['Extended Access Provision'](https://www.england.nhs.uk/statistics/statistical-work-areas/extended-access-general-practice/), a description of the four service settings could be:\n",
    "- **General Practice**: appointments delivering GP services in core contractual hours.\n",
    "- **Extended Access Provision**: appointments delivering GP services outside of core contractual hours, either in the early morning, evening or at weekends.\n",
    "- **Primary Care Network**: appointments delivering services by healthcare professionals other than GPs (for example 'clinical pharmacists', 'first contact physiotherapists', and 'health and wellbeing coaches')\n",
    "- **Other**: appointments delivering services at the GP surgery, but by other service providers. \n",
    "\n",
    "#### (2) Context types\n",
    "'Context type' here refers to whether the appointment is an encounter with a patient or an activity which is part of patient care, but without the presence of the patient. I imagine an example of an activity which is part of patient care, but does not involve the presence of the patient might be the analysis of test results.\\\n",
    "\\\n",
    "The metadata suggest two 'Context types' plus an option to record the appointment as 'Unmapped' which would be used in case of an error in receiving the data or the data not captured.\\\n",
    "\\\n",
    "The two 'Context types' are:\n",
    "- 'Care Related Encounter'\n",
    "- 'Inconsistent Mapping'\n",
    "\n",
    "'Care Related Encounter' seems self-explanatory - an appointment attended by a patient and a healthcare provider.\\\n",
    "\\\n",
    "'Inconsistent Mapping' as explained by the metadata file refers to a recorded appointment that did not involve the attendance of a patient. The use of the term 'inconsistent' shows that the notion of a patient appointment is contradictory with the notion that the patient is not in attendance.\n",
    "\n",
    "#### (3) National categories\n",
    "From the metadata this seems to relate to the reason why the patient needed the appointment. It includes 13 options, for example 'General Consultation Acute', 'General Consultation Routine', and 'Planned Clinical Procedure'.\n",
    "\n"
   ]
  },
  {
   "cell_type": "markdown",
   "id": "6e10adb4",
   "metadata": {},
   "source": [
    "## <span style=\"color:purple\">Part 2 of 2: Import and expore the data"
   ]
  },
  {
   "cell_type": "code",
   "execution_count": 1,
   "id": "293d138b",
   "metadata": {},
   "outputs": [],
   "source": [
    "# Import the relevant libraries.\n",
    "# Libraries selected based on the goals of the project and the data.\n",
    "# See the markdown cells above for more details.\n",
    "import numpy as np\n",
    "import pandas as pd\n",
    "import matplotlib as plt\n",
    "import seaborn as sns\n",
    "from bs4 import BeautifulSoup\n",
    "import datetime\n",
    "import warnings\n",
    "warnings.filterwarnings('ignore')"
   ]
  },
  {
   "cell_type": "markdown",
   "id": "3b362fb4",
   "metadata": {},
   "source": [
    "### (1) Actual Duration of Appointments *(df_actual_duration)*"
   ]
  },
  {
   "cell_type": "code",
   "execution_count": 2,
   "id": "92c2b686",
   "metadata": {},
   "outputs": [],
   "source": [
    "# Create a DataFrame for 'actual_duration.csv'.\n",
    "# Choosing a longer more decriptive name for the DataFrame.\n",
    "df_actual_duration = pd.read_csv('actual_duration.csv')"
   ]
  },
  {
   "cell_type": "code",
   "execution_count": 4,
   "id": "e512f566",
   "metadata": {},
   "outputs": [
    {
     "data": {
      "text/html": [
       "<div>\n",
       "<style scoped>\n",
       "    .dataframe tbody tr th:only-of-type {\n",
       "        vertical-align: middle;\n",
       "    }\n",
       "\n",
       "    .dataframe tbody tr th {\n",
       "        vertical-align: top;\n",
       "    }\n",
       "\n",
       "    .dataframe thead th {\n",
       "        text-align: right;\n",
       "    }\n",
       "</style>\n",
       "<table border=\"1\" class=\"dataframe\">\n",
       "  <thead>\n",
       "    <tr style=\"text-align: right;\">\n",
       "      <th></th>\n",
       "      <th>sub_icb_location_code</th>\n",
       "      <th>sub_icb_location_ons_code</th>\n",
       "      <th>sub_icb_location_name</th>\n",
       "      <th>icb_ons_code</th>\n",
       "      <th>region_ons_code</th>\n",
       "      <th>appointment_date</th>\n",
       "      <th>actual_duration</th>\n",
       "      <th>count_of_appointments</th>\n",
       "    </tr>\n",
       "  </thead>\n",
       "  <tbody>\n",
       "    <tr>\n",
       "      <th>0</th>\n",
       "      <td>00L</td>\n",
       "      <td>E38000130</td>\n",
       "      <td>NHS North East and North Cumbria ICB - 00L</td>\n",
       "      <td>E54000050</td>\n",
       "      <td>E40000012</td>\n",
       "      <td>01-Dec-21</td>\n",
       "      <td>31-60 Minutes</td>\n",
       "      <td>364</td>\n",
       "    </tr>\n",
       "    <tr>\n",
       "      <th>1</th>\n",
       "      <td>00L</td>\n",
       "      <td>E38000130</td>\n",
       "      <td>NHS North East and North Cumbria ICB - 00L</td>\n",
       "      <td>E54000050</td>\n",
       "      <td>E40000012</td>\n",
       "      <td>01-Dec-21</td>\n",
       "      <td>21-30 Minutes</td>\n",
       "      <td>619</td>\n",
       "    </tr>\n",
       "    <tr>\n",
       "      <th>2</th>\n",
       "      <td>00L</td>\n",
       "      <td>E38000130</td>\n",
       "      <td>NHS North East and North Cumbria ICB - 00L</td>\n",
       "      <td>E54000050</td>\n",
       "      <td>E40000012</td>\n",
       "      <td>01-Dec-21</td>\n",
       "      <td>6-10 Minutes</td>\n",
       "      <td>1698</td>\n",
       "    </tr>\n",
       "    <tr>\n",
       "      <th>3</th>\n",
       "      <td>00L</td>\n",
       "      <td>E38000130</td>\n",
       "      <td>NHS North East and North Cumbria ICB - 00L</td>\n",
       "      <td>E54000050</td>\n",
       "      <td>E40000012</td>\n",
       "      <td>01-Dec-21</td>\n",
       "      <td>Unknown / Data Quality</td>\n",
       "      <td>1277</td>\n",
       "    </tr>\n",
       "    <tr>\n",
       "      <th>4</th>\n",
       "      <td>00L</td>\n",
       "      <td>E38000130</td>\n",
       "      <td>NHS North East and North Cumbria ICB - 00L</td>\n",
       "      <td>E54000050</td>\n",
       "      <td>E40000012</td>\n",
       "      <td>01-Dec-21</td>\n",
       "      <td>16-20 Minutes</td>\n",
       "      <td>730</td>\n",
       "    </tr>\n",
       "    <tr>\n",
       "      <th>5</th>\n",
       "      <td>00L</td>\n",
       "      <td>E38000130</td>\n",
       "      <td>NHS North East and North Cumbria ICB - 00L</td>\n",
       "      <td>E54000050</td>\n",
       "      <td>E40000012</td>\n",
       "      <td>01-Dec-21</td>\n",
       "      <td>11-15 Minutes</td>\n",
       "      <td>1073</td>\n",
       "    </tr>\n",
       "    <tr>\n",
       "      <th>6</th>\n",
       "      <td>00L</td>\n",
       "      <td>E38000130</td>\n",
       "      <td>NHS North East and North Cumbria ICB - 00L</td>\n",
       "      <td>E54000050</td>\n",
       "      <td>E40000012</td>\n",
       "      <td>01-Dec-21</td>\n",
       "      <td>1-5 Minutes</td>\n",
       "      <td>1539</td>\n",
       "    </tr>\n",
       "    <tr>\n",
       "      <th>7</th>\n",
       "      <td>00L</td>\n",
       "      <td>E38000130</td>\n",
       "      <td>NHS North East and North Cumbria ICB - 00L</td>\n",
       "      <td>E54000050</td>\n",
       "      <td>E40000012</td>\n",
       "      <td>02-Dec-21</td>\n",
       "      <td>21-30 Minutes</td>\n",
       "      <td>601</td>\n",
       "    </tr>\n",
       "    <tr>\n",
       "      <th>8</th>\n",
       "      <td>00L</td>\n",
       "      <td>E38000130</td>\n",
       "      <td>NHS North East and North Cumbria ICB - 00L</td>\n",
       "      <td>E54000050</td>\n",
       "      <td>E40000012</td>\n",
       "      <td>02-Dec-21</td>\n",
       "      <td>Unknown / Data Quality</td>\n",
       "      <td>1391</td>\n",
       "    </tr>\n",
       "    <tr>\n",
       "      <th>9</th>\n",
       "      <td>00L</td>\n",
       "      <td>E38000130</td>\n",
       "      <td>NHS North East and North Cumbria ICB - 00L</td>\n",
       "      <td>E54000050</td>\n",
       "      <td>E40000012</td>\n",
       "      <td>02-Dec-21</td>\n",
       "      <td>11-15 Minutes</td>\n",
       "      <td>1139</td>\n",
       "    </tr>\n",
       "  </tbody>\n",
       "</table>\n",
       "</div>"
      ],
      "text/plain": [
       "  sub_icb_location_code sub_icb_location_ons_code  \\\n",
       "0                   00L                 E38000130   \n",
       "1                   00L                 E38000130   \n",
       "2                   00L                 E38000130   \n",
       "3                   00L                 E38000130   \n",
       "4                   00L                 E38000130   \n",
       "5                   00L                 E38000130   \n",
       "6                   00L                 E38000130   \n",
       "7                   00L                 E38000130   \n",
       "8                   00L                 E38000130   \n",
       "9                   00L                 E38000130   \n",
       "\n",
       "                        sub_icb_location_name icb_ons_code region_ons_code  \\\n",
       "0  NHS North East and North Cumbria ICB - 00L    E54000050       E40000012   \n",
       "1  NHS North East and North Cumbria ICB - 00L    E54000050       E40000012   \n",
       "2  NHS North East and North Cumbria ICB - 00L    E54000050       E40000012   \n",
       "3  NHS North East and North Cumbria ICB - 00L    E54000050       E40000012   \n",
       "4  NHS North East and North Cumbria ICB - 00L    E54000050       E40000012   \n",
       "5  NHS North East and North Cumbria ICB - 00L    E54000050       E40000012   \n",
       "6  NHS North East and North Cumbria ICB - 00L    E54000050       E40000012   \n",
       "7  NHS North East and North Cumbria ICB - 00L    E54000050       E40000012   \n",
       "8  NHS North East and North Cumbria ICB - 00L    E54000050       E40000012   \n",
       "9  NHS North East and North Cumbria ICB - 00L    E54000050       E40000012   \n",
       "\n",
       "  appointment_date         actual_duration  count_of_appointments  \n",
       "0        01-Dec-21           31-60 Minutes                    364  \n",
       "1        01-Dec-21           21-30 Minutes                    619  \n",
       "2        01-Dec-21            6-10 Minutes                   1698  \n",
       "3        01-Dec-21  Unknown / Data Quality                   1277  \n",
       "4        01-Dec-21           16-20 Minutes                    730  \n",
       "5        01-Dec-21           11-15 Minutes                   1073  \n",
       "6        01-Dec-21             1-5 Minutes                   1539  \n",
       "7        02-Dec-21           21-30 Minutes                    601  \n",
       "8        02-Dec-21  Unknown / Data Quality                   1391  \n",
       "9        02-Dec-21           11-15 Minutes                   1139  "
      ]
     },
     "execution_count": 4,
     "metadata": {},
     "output_type": "execute_result"
    }
   ],
   "source": [
    "# See the first ten rows.\n",
    "df_actual_duration.head(10)"
   ]
  },
  {
   "cell_type": "code",
   "execution_count": 3,
   "id": "2b360bf3",
   "metadata": {
    "scrolled": true
   },
   "outputs": [
    {
     "name": "stdout",
     "output_type": "stream",
     "text": [
      "<class 'pandas.core.frame.DataFrame'>\n",
      "RangeIndex: 137793 entries, 0 to 137792\n",
      "Data columns (total 8 columns):\n",
      " #   Column                     Non-Null Count   Dtype \n",
      "---  ------                     --------------   ----- \n",
      " 0   sub_icb_location_code      137793 non-null  object\n",
      " 1   sub_icb_location_ons_code  137793 non-null  object\n",
      " 2   sub_icb_location_name      137793 non-null  object\n",
      " 3   icb_ons_code               137793 non-null  object\n",
      " 4   region_ons_code            137793 non-null  object\n",
      " 5   appointment_date           137793 non-null  object\n",
      " 6   actual_duration            137793 non-null  object\n",
      " 7   count_of_appointments      137793 non-null  int64 \n",
      "dtypes: int64(1), object(7)\n",
      "memory usage: 8.4+ MB\n"
     ]
    },
    {
     "data": {
      "text/html": [
       "<div>\n",
       "<style scoped>\n",
       "    .dataframe tbody tr th:only-of-type {\n",
       "        vertical-align: middle;\n",
       "    }\n",
       "\n",
       "    .dataframe tbody tr th {\n",
       "        vertical-align: top;\n",
       "    }\n",
       "\n",
       "    .dataframe thead th {\n",
       "        text-align: right;\n",
       "    }\n",
       "</style>\n",
       "<table border=\"1\" class=\"dataframe\">\n",
       "  <thead>\n",
       "    <tr style=\"text-align: right;\">\n",
       "      <th></th>\n",
       "      <th>count_of_appointments</th>\n",
       "    </tr>\n",
       "  </thead>\n",
       "  <tbody>\n",
       "    <tr>\n",
       "      <th>count</th>\n",
       "      <td>137793.000000</td>\n",
       "    </tr>\n",
       "    <tr>\n",
       "      <th>mean</th>\n",
       "      <td>1219.080011</td>\n",
       "    </tr>\n",
       "    <tr>\n",
       "      <th>std</th>\n",
       "      <td>1546.902956</td>\n",
       "    </tr>\n",
       "    <tr>\n",
       "      <th>min</th>\n",
       "      <td>1.000000</td>\n",
       "    </tr>\n",
       "    <tr>\n",
       "      <th>25%</th>\n",
       "      <td>194.000000</td>\n",
       "    </tr>\n",
       "    <tr>\n",
       "      <th>50%</th>\n",
       "      <td>696.000000</td>\n",
       "    </tr>\n",
       "    <tr>\n",
       "      <th>75%</th>\n",
       "      <td>1621.000000</td>\n",
       "    </tr>\n",
       "    <tr>\n",
       "      <th>max</th>\n",
       "      <td>15400.000000</td>\n",
       "    </tr>\n",
       "  </tbody>\n",
       "</table>\n",
       "</div>"
      ],
      "text/plain": [
       "       count_of_appointments\n",
       "count          137793.000000\n",
       "mean             1219.080011\n",
       "std              1546.902956\n",
       "min                 1.000000\n",
       "25%               194.000000\n",
       "50%               696.000000\n",
       "75%              1621.000000\n",
       "max             15400.000000"
      ]
     },
     "execution_count": 3,
     "metadata": {},
     "output_type": "execute_result"
    }
   ],
   "source": [
    "# See the 'df_actual_duration' column names together with their data types.\n",
    "# See the 'df_actual_duration' descriptive statistics.\n",
    "df_actual_duration.info()\n",
    "\"\"\".info() also tells us whether there are missing values\"\"\"\n",
    "df_actual_duration.describe()"
   ]
  },
  {
   "cell_type": "markdown",
   "id": "3c1d628c",
   "metadata": {},
   "source": [
    "**Insights**\n",
    "* 'df_actual_duration' includes eight columns and 137,793 rows.\n",
    "* It seems to capture the count of appointments together with appointment dates and duration by location.\n",
    "* From a Google search 'icb' may stand for 'Integrated Care Board' and 'ons' may stand for 'Office for National Statistics'.\n",
    "* Seven columns have the data type 'object' and one ('count_of_appointments') has the data type 'integer'.\n",
    "* We will consider changing the data type for 'appointment_date'.\n",
    "* There seem to be no missing values.\n",
    "* We will investigate the possible presence of 'count_of_appointments' outliers, given the min value of 1 and the max value of 15,400 compared to the mean (1,219) and standard deviation (1,547).\n"
   ]
  },
  {
   "cell_type": "markdown",
   "id": "793d53cd",
   "metadata": {},
   "source": [
    "### (2) Regional Appointments *(df_appointments_regional)*"
   ]
  },
  {
   "cell_type": "code",
   "execution_count": 5,
   "id": "f986ac4e",
   "metadata": {},
   "outputs": [],
   "source": [
    "# Create a DataFrame for 'appointments_regional.csv'.\n",
    "# Choosing a longer more decriptive name for the DataFrame.\n",
    "df_appointments_regional = pd.read_csv('appointments_regional.csv')"
   ]
  },
  {
   "cell_type": "code",
   "execution_count": 7,
   "id": "fb97f02a",
   "metadata": {},
   "outputs": [
    {
     "data": {
      "text/html": [
       "<div>\n",
       "<style scoped>\n",
       "    .dataframe tbody tr th:only-of-type {\n",
       "        vertical-align: middle;\n",
       "    }\n",
       "\n",
       "    .dataframe tbody tr th {\n",
       "        vertical-align: top;\n",
       "    }\n",
       "\n",
       "    .dataframe thead th {\n",
       "        text-align: right;\n",
       "    }\n",
       "</style>\n",
       "<table border=\"1\" class=\"dataframe\">\n",
       "  <thead>\n",
       "    <tr style=\"text-align: right;\">\n",
       "      <th></th>\n",
       "      <th>icb_ons_code</th>\n",
       "      <th>appointment_month</th>\n",
       "      <th>appointment_status</th>\n",
       "      <th>hcp_type</th>\n",
       "      <th>appointment_mode</th>\n",
       "      <th>time_between_book_and_appointment</th>\n",
       "      <th>count_of_appointments</th>\n",
       "    </tr>\n",
       "  </thead>\n",
       "  <tbody>\n",
       "    <tr>\n",
       "      <th>0</th>\n",
       "      <td>E54000034</td>\n",
       "      <td>2020-01</td>\n",
       "      <td>Attended</td>\n",
       "      <td>GP</td>\n",
       "      <td>Face-to-Face</td>\n",
       "      <td>1 Day</td>\n",
       "      <td>8107</td>\n",
       "    </tr>\n",
       "    <tr>\n",
       "      <th>1</th>\n",
       "      <td>E54000034</td>\n",
       "      <td>2020-01</td>\n",
       "      <td>Attended</td>\n",
       "      <td>GP</td>\n",
       "      <td>Face-to-Face</td>\n",
       "      <td>15  to 21 Days</td>\n",
       "      <td>6791</td>\n",
       "    </tr>\n",
       "    <tr>\n",
       "      <th>2</th>\n",
       "      <td>E54000034</td>\n",
       "      <td>2020-01</td>\n",
       "      <td>Attended</td>\n",
       "      <td>GP</td>\n",
       "      <td>Face-to-Face</td>\n",
       "      <td>2 to 7 Days</td>\n",
       "      <td>20686</td>\n",
       "    </tr>\n",
       "    <tr>\n",
       "      <th>3</th>\n",
       "      <td>E54000034</td>\n",
       "      <td>2020-01</td>\n",
       "      <td>Attended</td>\n",
       "      <td>GP</td>\n",
       "      <td>Face-to-Face</td>\n",
       "      <td>22  to 28 Days</td>\n",
       "      <td>4268</td>\n",
       "    </tr>\n",
       "    <tr>\n",
       "      <th>4</th>\n",
       "      <td>E54000034</td>\n",
       "      <td>2020-01</td>\n",
       "      <td>Attended</td>\n",
       "      <td>GP</td>\n",
       "      <td>Face-to-Face</td>\n",
       "      <td>8  to 14 Days</td>\n",
       "      <td>11971</td>\n",
       "    </tr>\n",
       "    <tr>\n",
       "      <th>5</th>\n",
       "      <td>E54000034</td>\n",
       "      <td>2020-01</td>\n",
       "      <td>Attended</td>\n",
       "      <td>GP</td>\n",
       "      <td>Face-to-Face</td>\n",
       "      <td>More than 28 Days</td>\n",
       "      <td>3273</td>\n",
       "    </tr>\n",
       "    <tr>\n",
       "      <th>6</th>\n",
       "      <td>E54000034</td>\n",
       "      <td>2020-01</td>\n",
       "      <td>Attended</td>\n",
       "      <td>GP</td>\n",
       "      <td>Face-to-Face</td>\n",
       "      <td>Same Day</td>\n",
       "      <td>64649</td>\n",
       "    </tr>\n",
       "    <tr>\n",
       "      <th>7</th>\n",
       "      <td>E54000034</td>\n",
       "      <td>2020-01</td>\n",
       "      <td>Attended</td>\n",
       "      <td>GP</td>\n",
       "      <td>Home Visit</td>\n",
       "      <td>1 Day</td>\n",
       "      <td>151</td>\n",
       "    </tr>\n",
       "    <tr>\n",
       "      <th>8</th>\n",
       "      <td>E54000034</td>\n",
       "      <td>2020-01</td>\n",
       "      <td>Attended</td>\n",
       "      <td>GP</td>\n",
       "      <td>Home Visit</td>\n",
       "      <td>15  to 21 Days</td>\n",
       "      <td>12</td>\n",
       "    </tr>\n",
       "    <tr>\n",
       "      <th>9</th>\n",
       "      <td>E54000034</td>\n",
       "      <td>2020-01</td>\n",
       "      <td>Attended</td>\n",
       "      <td>GP</td>\n",
       "      <td>Home Visit</td>\n",
       "      <td>2 to 7 Days</td>\n",
       "      <td>141</td>\n",
       "    </tr>\n",
       "  </tbody>\n",
       "</table>\n",
       "</div>"
      ],
      "text/plain": [
       "  icb_ons_code appointment_month appointment_status hcp_type appointment_mode  \\\n",
       "0    E54000034           2020-01           Attended       GP     Face-to-Face   \n",
       "1    E54000034           2020-01           Attended       GP     Face-to-Face   \n",
       "2    E54000034           2020-01           Attended       GP     Face-to-Face   \n",
       "3    E54000034           2020-01           Attended       GP     Face-to-Face   \n",
       "4    E54000034           2020-01           Attended       GP     Face-to-Face   \n",
       "5    E54000034           2020-01           Attended       GP     Face-to-Face   \n",
       "6    E54000034           2020-01           Attended       GP     Face-to-Face   \n",
       "7    E54000034           2020-01           Attended       GP       Home Visit   \n",
       "8    E54000034           2020-01           Attended       GP       Home Visit   \n",
       "9    E54000034           2020-01           Attended       GP       Home Visit   \n",
       "\n",
       "  time_between_book_and_appointment  count_of_appointments  \n",
       "0                             1 Day                   8107  \n",
       "1                    15  to 21 Days                   6791  \n",
       "2                       2 to 7 Days                  20686  \n",
       "3                    22  to 28 Days                   4268  \n",
       "4                     8  to 14 Days                  11971  \n",
       "5                 More than 28 Days                   3273  \n",
       "6                          Same Day                  64649  \n",
       "7                             1 Day                    151  \n",
       "8                    15  to 21 Days                     12  \n",
       "9                       2 to 7 Days                    141  "
      ]
     },
     "execution_count": 7,
     "metadata": {},
     "output_type": "execute_result"
    }
   ],
   "source": [
    "# See the first ten rows.\n",
    "df_appointments_regional.head(10)"
   ]
  },
  {
   "cell_type": "code",
   "execution_count": 6,
   "id": "8ad36d6f",
   "metadata": {
    "scrolled": true
   },
   "outputs": [
    {
     "name": "stdout",
     "output_type": "stream",
     "text": [
      "<class 'pandas.core.frame.DataFrame'>\n",
      "RangeIndex: 596821 entries, 0 to 596820\n",
      "Data columns (total 7 columns):\n",
      " #   Column                             Non-Null Count   Dtype \n",
      "---  ------                             --------------   ----- \n",
      " 0   icb_ons_code                       596821 non-null  object\n",
      " 1   appointment_month                  596821 non-null  object\n",
      " 2   appointment_status                 596821 non-null  object\n",
      " 3   hcp_type                           596821 non-null  object\n",
      " 4   appointment_mode                   596821 non-null  object\n",
      " 5   time_between_book_and_appointment  596821 non-null  object\n",
      " 6   count_of_appointments              596821 non-null  int64 \n",
      "dtypes: int64(1), object(6)\n",
      "memory usage: 31.9+ MB\n"
     ]
    },
    {
     "data": {
      "text/html": [
       "<div>\n",
       "<style scoped>\n",
       "    .dataframe tbody tr th:only-of-type {\n",
       "        vertical-align: middle;\n",
       "    }\n",
       "\n",
       "    .dataframe tbody tr th {\n",
       "        vertical-align: top;\n",
       "    }\n",
       "\n",
       "    .dataframe thead th {\n",
       "        text-align: right;\n",
       "    }\n",
       "</style>\n",
       "<table border=\"1\" class=\"dataframe\">\n",
       "  <thead>\n",
       "    <tr style=\"text-align: right;\">\n",
       "      <th></th>\n",
       "      <th>count_of_appointments</th>\n",
       "    </tr>\n",
       "  </thead>\n",
       "  <tbody>\n",
       "    <tr>\n",
       "      <th>count</th>\n",
       "      <td>596821.000000</td>\n",
       "    </tr>\n",
       "    <tr>\n",
       "      <th>mean</th>\n",
       "      <td>1244.601857</td>\n",
       "    </tr>\n",
       "    <tr>\n",
       "      <th>std</th>\n",
       "      <td>5856.887042</td>\n",
       "    </tr>\n",
       "    <tr>\n",
       "      <th>min</th>\n",
       "      <td>1.000000</td>\n",
       "    </tr>\n",
       "    <tr>\n",
       "      <th>25%</th>\n",
       "      <td>7.000000</td>\n",
       "    </tr>\n",
       "    <tr>\n",
       "      <th>50%</th>\n",
       "      <td>47.000000</td>\n",
       "    </tr>\n",
       "    <tr>\n",
       "      <th>75%</th>\n",
       "      <td>308.000000</td>\n",
       "    </tr>\n",
       "    <tr>\n",
       "      <th>max</th>\n",
       "      <td>211265.000000</td>\n",
       "    </tr>\n",
       "  </tbody>\n",
       "</table>\n",
       "</div>"
      ],
      "text/plain": [
       "       count_of_appointments\n",
       "count          596821.000000\n",
       "mean             1244.601857\n",
       "std              5856.887042\n",
       "min                 1.000000\n",
       "25%                 7.000000\n",
       "50%                47.000000\n",
       "75%               308.000000\n",
       "max            211265.000000"
      ]
     },
     "execution_count": 6,
     "metadata": {},
     "output_type": "execute_result"
    }
   ],
   "source": [
    "# See the 'df_appointments_regional' column names together with their data types.\n",
    "# See the 'df_appointments_regional' descriptive statistics.\n",
    "df_appointments_regional.info()\n",
    "df_appointments_regional.describe()"
   ]
  },
  {
   "cell_type": "code",
   "execution_count": 8,
   "id": "22323c26",
   "metadata": {},
   "outputs": [
    {
     "name": "stdout",
     "output_type": "stream",
     "text": [
      "Count of appointment statuses:  3\n"
     ]
    }
   ],
   "source": [
    "# Answer to how many appointment statuses are represented in the data.\n",
    "count_apt_status = df_appointments_regional['appointment_status'].nunique()\n",
    "print(\"Count of appointment statuses: \", count_apt_status)"
   ]
  },
  {
   "cell_type": "code",
   "execution_count": 9,
   "id": "1509f4c7",
   "metadata": {},
   "outputs": [
    {
     "data": {
      "text/plain": [
       "['Attended', 'DNA', 'Unknown']"
      ]
     },
     "execution_count": 9,
     "metadata": {},
     "output_type": "execute_result"
    }
   ],
   "source": [
    "# Answer to what are the names of the three appointment statuses.\n",
    "pd.unique(df_appointments_regional['appointment_status']).tolist()"
   ]
  },
  {
   "cell_type": "code",
   "execution_count": 10,
   "id": "ca6751b5",
   "metadata": {},
   "outputs": [
    {
     "data": {
      "text/plain": [
       "Attended    0.388956\n",
       "Unknown     0.337327\n",
       "DNA         0.273717\n",
       "Name: appointment_status, dtype: float64"
      ]
     },
     "execution_count": 10,
     "metadata": {},
     "output_type": "execute_result"
    }
   ],
   "source": [
    "# Answer to how what is the count_of_appointments per appointment status.\n",
    "df_apt_count_by_status_norm = (\n",
    "    df_appointments_regional.appointment_status.value_counts(normalize=True))\n",
    "df_apt_count_by_status_norm"
   ]
  },
  {
   "cell_type": "code",
   "execution_count": 11,
   "id": "0fe085a8",
   "metadata": {},
   "outputs": [
    {
     "data": {
      "text/plain": [
       "['GP', 'Other Practice staff', 'Unknown']"
      ]
     },
     "execution_count": 11,
     "metadata": {},
     "output_type": "execute_result"
    }
   ],
   "source": [
    "# Unique values in 'hcp_type'.\n",
    "pd.unique(df_appointments_regional['hcp_type']).tolist()"
   ]
  },
  {
   "cell_type": "code",
   "execution_count": 12,
   "id": "ce3e72ea",
   "metadata": {},
   "outputs": [
    {
     "data": {
      "text/plain": [
       "['Face-to-Face', 'Home Visit', 'Telephone', 'Unknown', 'Video/Online']"
      ]
     },
     "execution_count": 12,
     "metadata": {},
     "output_type": "execute_result"
    }
   ],
   "source": [
    "# Unique values in 'appointment_mode'.\n",
    "pd.unique(df_appointments_regional['appointment_mode']).tolist()"
   ]
  },
  {
   "cell_type": "markdown",
   "id": "efe0c1dc",
   "metadata": {},
   "source": [
    "**Insights**\n",
    "* 'df_appointments_regional' has seven columns and 596,821 rows.\n",
    "* It seems to capture six data points by location (based on the 'icb_ons_code'): (1) the count_of_appointments together with (2) appointment_month, (3) status, (4) mode, (5) hcp ('healthcare professional type'), and (6) time_between_book_and_appointment.\n",
    "* Six columns have data type 'object' and one ('count_of_appointments') has data type 'integer'.\n",
    "* We will consider changing the data type for 'appointment_month' and 'time_between_book_and_appointment'.\n",
    "* There seem to be no missing values.\n",
    "* We will investigate the possible presence of 'count_of_appointments' outliers, given the min value of 1 and the max value of 211,265 compared to the mean (1,245) and standard deviation (5,857).\n",
    "* The status of 34% of appointments shows as 'Unknown' and for 27% it is shown as 'DNA' ('did not attend'). Both of these are higher than expected indicating possible data quality issues beyond those described in the metadata file. "
   ]
  },
  {
   "cell_type": "markdown",
   "id": "6d2b0162",
   "metadata": {},
   "source": [
    "### (3) National Categories *(df_national_categories)*"
   ]
  },
  {
   "cell_type": "code",
   "execution_count": 117,
   "id": "25c24565",
   "metadata": {
    "scrolled": true
   },
   "outputs": [],
   "source": [
    "# Create a DataFrame for 'national_categories.xlsx'.\n",
    "df_national_categories = pd.read_excel('national_categories.xlsx')"
   ]
  },
  {
   "cell_type": "code",
   "execution_count": 119,
   "id": "6d03942f",
   "metadata": {},
   "outputs": [
    {
     "data": {
      "text/html": [
       "<div>\n",
       "<style scoped>\n",
       "    .dataframe tbody tr th:only-of-type {\n",
       "        vertical-align: middle;\n",
       "    }\n",
       "\n",
       "    .dataframe tbody tr th {\n",
       "        vertical-align: top;\n",
       "    }\n",
       "\n",
       "    .dataframe thead th {\n",
       "        text-align: right;\n",
       "    }\n",
       "</style>\n",
       "<table border=\"1\" class=\"dataframe\">\n",
       "  <thead>\n",
       "    <tr style=\"text-align: right;\">\n",
       "      <th></th>\n",
       "      <th>appointment_date</th>\n",
       "      <th>icb_ons_code</th>\n",
       "      <th>sub_icb_location_name</th>\n",
       "      <th>service_setting</th>\n",
       "      <th>context_type</th>\n",
       "      <th>national_category</th>\n",
       "      <th>count_of_appointments</th>\n",
       "      <th>appointment_month</th>\n",
       "    </tr>\n",
       "  </thead>\n",
       "  <tbody>\n",
       "    <tr>\n",
       "      <th>0</th>\n",
       "      <td>2021-08-02</td>\n",
       "      <td>E54000050</td>\n",
       "      <td>NHS North East and North Cumbria ICB - 00L</td>\n",
       "      <td>Primary Care Network</td>\n",
       "      <td>Care Related Encounter</td>\n",
       "      <td>Patient contact during Care Home Round</td>\n",
       "      <td>3</td>\n",
       "      <td>2021-08</td>\n",
       "    </tr>\n",
       "    <tr>\n",
       "      <th>1</th>\n",
       "      <td>2021-08-02</td>\n",
       "      <td>E54000050</td>\n",
       "      <td>NHS North East and North Cumbria ICB - 00L</td>\n",
       "      <td>Other</td>\n",
       "      <td>Care Related Encounter</td>\n",
       "      <td>Planned Clinics</td>\n",
       "      <td>7</td>\n",
       "      <td>2021-08</td>\n",
       "    </tr>\n",
       "    <tr>\n",
       "      <th>2</th>\n",
       "      <td>2021-08-02</td>\n",
       "      <td>E54000050</td>\n",
       "      <td>NHS North East and North Cumbria ICB - 00L</td>\n",
       "      <td>General Practice</td>\n",
       "      <td>Care Related Encounter</td>\n",
       "      <td>Home Visit</td>\n",
       "      <td>79</td>\n",
       "      <td>2021-08</td>\n",
       "    </tr>\n",
       "    <tr>\n",
       "      <th>3</th>\n",
       "      <td>2021-08-02</td>\n",
       "      <td>E54000050</td>\n",
       "      <td>NHS North East and North Cumbria ICB - 00L</td>\n",
       "      <td>General Practice</td>\n",
       "      <td>Care Related Encounter</td>\n",
       "      <td>General Consultation Acute</td>\n",
       "      <td>725</td>\n",
       "      <td>2021-08</td>\n",
       "    </tr>\n",
       "    <tr>\n",
       "      <th>4</th>\n",
       "      <td>2021-08-02</td>\n",
       "      <td>E54000050</td>\n",
       "      <td>NHS North East and North Cumbria ICB - 00L</td>\n",
       "      <td>General Practice</td>\n",
       "      <td>Care Related Encounter</td>\n",
       "      <td>Structured Medication Review</td>\n",
       "      <td>2</td>\n",
       "      <td>2021-08</td>\n",
       "    </tr>\n",
       "    <tr>\n",
       "      <th>5</th>\n",
       "      <td>2021-08-02</td>\n",
       "      <td>E54000050</td>\n",
       "      <td>NHS North East and North Cumbria ICB - 00L</td>\n",
       "      <td>General Practice</td>\n",
       "      <td>Care Related Encounter</td>\n",
       "      <td>Care Home Visit</td>\n",
       "      <td>11</td>\n",
       "      <td>2021-08</td>\n",
       "    </tr>\n",
       "    <tr>\n",
       "      <th>6</th>\n",
       "      <td>2021-08-02</td>\n",
       "      <td>E54000050</td>\n",
       "      <td>NHS North East and North Cumbria ICB - 00L</td>\n",
       "      <td>Unmapped</td>\n",
       "      <td>Unmapped</td>\n",
       "      <td>Unmapped</td>\n",
       "      <td>372</td>\n",
       "      <td>2021-08</td>\n",
       "    </tr>\n",
       "    <tr>\n",
       "      <th>7</th>\n",
       "      <td>2021-08-02</td>\n",
       "      <td>E54000050</td>\n",
       "      <td>NHS North East and North Cumbria ICB - 00L</td>\n",
       "      <td>Primary Care Network</td>\n",
       "      <td>Care Related Encounter</td>\n",
       "      <td>Home Visit</td>\n",
       "      <td>4</td>\n",
       "      <td>2021-08</td>\n",
       "    </tr>\n",
       "    <tr>\n",
       "      <th>8</th>\n",
       "      <td>2021-08-02</td>\n",
       "      <td>E54000050</td>\n",
       "      <td>NHS North East and North Cumbria ICB - 00L</td>\n",
       "      <td>Other</td>\n",
       "      <td>Care Related Encounter</td>\n",
       "      <td>Clinical Triage</td>\n",
       "      <td>98</td>\n",
       "      <td>2021-08</td>\n",
       "    </tr>\n",
       "    <tr>\n",
       "      <th>9</th>\n",
       "      <td>2021-08-02</td>\n",
       "      <td>E54000050</td>\n",
       "      <td>NHS North East and North Cumbria ICB - 00L</td>\n",
       "      <td>Primary Care Network</td>\n",
       "      <td>Care Related Encounter</td>\n",
       "      <td>General Consultation Acute</td>\n",
       "      <td>35</td>\n",
       "      <td>2021-08</td>\n",
       "    </tr>\n",
       "  </tbody>\n",
       "</table>\n",
       "</div>"
      ],
      "text/plain": [
       "  appointment_date icb_ons_code                       sub_icb_location_name  \\\n",
       "0       2021-08-02    E54000050  NHS North East and North Cumbria ICB - 00L   \n",
       "1       2021-08-02    E54000050  NHS North East and North Cumbria ICB - 00L   \n",
       "2       2021-08-02    E54000050  NHS North East and North Cumbria ICB - 00L   \n",
       "3       2021-08-02    E54000050  NHS North East and North Cumbria ICB - 00L   \n",
       "4       2021-08-02    E54000050  NHS North East and North Cumbria ICB - 00L   \n",
       "5       2021-08-02    E54000050  NHS North East and North Cumbria ICB - 00L   \n",
       "6       2021-08-02    E54000050  NHS North East and North Cumbria ICB - 00L   \n",
       "7       2021-08-02    E54000050  NHS North East and North Cumbria ICB - 00L   \n",
       "8       2021-08-02    E54000050  NHS North East and North Cumbria ICB - 00L   \n",
       "9       2021-08-02    E54000050  NHS North East and North Cumbria ICB - 00L   \n",
       "\n",
       "        service_setting            context_type  \\\n",
       "0  Primary Care Network  Care Related Encounter   \n",
       "1                 Other  Care Related Encounter   \n",
       "2      General Practice  Care Related Encounter   \n",
       "3      General Practice  Care Related Encounter   \n",
       "4      General Practice  Care Related Encounter   \n",
       "5      General Practice  Care Related Encounter   \n",
       "6              Unmapped                Unmapped   \n",
       "7  Primary Care Network  Care Related Encounter   \n",
       "8                 Other  Care Related Encounter   \n",
       "9  Primary Care Network  Care Related Encounter   \n",
       "\n",
       "                        national_category  count_of_appointments  \\\n",
       "0  Patient contact during Care Home Round                      3   \n",
       "1                         Planned Clinics                      7   \n",
       "2                              Home Visit                     79   \n",
       "3              General Consultation Acute                    725   \n",
       "4            Structured Medication Review                      2   \n",
       "5                         Care Home Visit                     11   \n",
       "6                                Unmapped                    372   \n",
       "7                              Home Visit                      4   \n",
       "8                         Clinical Triage                     98   \n",
       "9              General Consultation Acute                     35   \n",
       "\n",
       "  appointment_month  \n",
       "0           2021-08  \n",
       "1           2021-08  \n",
       "2           2021-08  \n",
       "3           2021-08  \n",
       "4           2021-08  \n",
       "5           2021-08  \n",
       "6           2021-08  \n",
       "7           2021-08  \n",
       "8           2021-08  \n",
       "9           2021-08  "
      ]
     },
     "execution_count": 119,
     "metadata": {},
     "output_type": "execute_result"
    }
   ],
   "source": [
    "# See the first ten rows.\n",
    "df_national_categories.head(10)"
   ]
  },
  {
   "cell_type": "code",
   "execution_count": 118,
   "id": "c122f081",
   "metadata": {},
   "outputs": [
    {
     "name": "stdout",
     "output_type": "stream",
     "text": [
      "<class 'pandas.core.frame.DataFrame'>\n",
      "RangeIndex: 817394 entries, 0 to 817393\n",
      "Data columns (total 8 columns):\n",
      " #   Column                 Non-Null Count   Dtype         \n",
      "---  ------                 --------------   -----         \n",
      " 0   appointment_date       817394 non-null  datetime64[ns]\n",
      " 1   icb_ons_code           817394 non-null  object        \n",
      " 2   sub_icb_location_name  817394 non-null  object        \n",
      " 3   service_setting        817394 non-null  object        \n",
      " 4   context_type           817394 non-null  object        \n",
      " 5   national_category      817394 non-null  object        \n",
      " 6   count_of_appointments  817394 non-null  int64         \n",
      " 7   appointment_month      817394 non-null  object        \n",
      "dtypes: datetime64[ns](1), int64(1), object(6)\n",
      "memory usage: 49.9+ MB\n"
     ]
    },
    {
     "data": {
      "text/html": [
       "<div>\n",
       "<style scoped>\n",
       "    .dataframe tbody tr th:only-of-type {\n",
       "        vertical-align: middle;\n",
       "    }\n",
       "\n",
       "    .dataframe tbody tr th {\n",
       "        vertical-align: top;\n",
       "    }\n",
       "\n",
       "    .dataframe thead th {\n",
       "        text-align: right;\n",
       "    }\n",
       "</style>\n",
       "<table border=\"1\" class=\"dataframe\">\n",
       "  <thead>\n",
       "    <tr style=\"text-align: right;\">\n",
       "      <th></th>\n",
       "      <th>count_of_appointments</th>\n",
       "    </tr>\n",
       "  </thead>\n",
       "  <tbody>\n",
       "    <tr>\n",
       "      <th>count</th>\n",
       "      <td>817394.000000</td>\n",
       "    </tr>\n",
       "    <tr>\n",
       "      <th>mean</th>\n",
       "      <td>362.183684</td>\n",
       "    </tr>\n",
       "    <tr>\n",
       "      <th>std</th>\n",
       "      <td>1084.576600</td>\n",
       "    </tr>\n",
       "    <tr>\n",
       "      <th>min</th>\n",
       "      <td>1.000000</td>\n",
       "    </tr>\n",
       "    <tr>\n",
       "      <th>25%</th>\n",
       "      <td>7.000000</td>\n",
       "    </tr>\n",
       "    <tr>\n",
       "      <th>50%</th>\n",
       "      <td>25.000000</td>\n",
       "    </tr>\n",
       "    <tr>\n",
       "      <th>75%</th>\n",
       "      <td>128.000000</td>\n",
       "    </tr>\n",
       "    <tr>\n",
       "      <th>max</th>\n",
       "      <td>16590.000000</td>\n",
       "    </tr>\n",
       "  </tbody>\n",
       "</table>\n",
       "</div>"
      ],
      "text/plain": [
       "       count_of_appointments\n",
       "count          817394.000000\n",
       "mean              362.183684\n",
       "std              1084.576600\n",
       "min                 1.000000\n",
       "25%                 7.000000\n",
       "50%                25.000000\n",
       "75%               128.000000\n",
       "max             16590.000000"
      ]
     },
     "execution_count": 118,
     "metadata": {},
     "output_type": "execute_result"
    }
   ],
   "source": [
    "# See the 'df_national_categories' column names together with their data types.\n",
    "# See the 'df_national_categories' descriptive statistics.\n",
    "df_national_categories.info()\n",
    "df_national_categories.describe()"
   ]
  },
  {
   "cell_type": "markdown",
   "id": "b86743a7",
   "metadata": {},
   "source": [
    "**Insights**\n",
    "* 'df_national_categories' has eight columns and 817,394 rows.\n",
    "* It seems to capture six data points by location (based on the 'sub_icb_location_name'): (1) the count of appointments together with (2) appointment date; (3) appointment_month, (4) service_setting, (5) context_type, and (6) national_category.\n",
    "* Seven columns have data type 'object' and one ('count_of_appointments') has data type 'integer'.\n",
    "* We will consider changing the data type for 'appointment_month' and 'appointment_date'.\n",
    "* There seem to be no missing values.\n",
    "* We will investigate the possible presence of 'count_of_appointments' outliers, given the min value of 1 and the max value of 16,590 compared to the mean (362) and standard deviation (1,084)."
   ]
  },
  {
   "cell_type": "markdown",
   "id": "175d1aea",
   "metadata": {},
   "source": [
    "**Question 1**\\\n",
    "How many locations are there in the data set?"
   ]
  },
  {
   "cell_type": "markdown",
   "id": "eb3eadb9",
   "metadata": {},
   "source": [
    "**Answer:**\\\n",
    "The answer depends on at which level we define 'location'.\\\n",
    "At the sub-ICB level there are 106 locations.\\\n",
    "At the ICB level there are 42 locations.\\\n",
    "At the region level there are 7 locations."
   ]
  },
  {
   "cell_type": "markdown",
   "id": "39910057",
   "metadata": {},
   "source": [
    "**Approach**"
   ]
  },
  {
   "cell_type": "markdown",
   "id": "3f978d01",
   "metadata": {},
   "source": [
    "**Number of locations at sub-ICB level**"
   ]
  },
  {
   "cell_type": "code",
   "execution_count": 120,
   "id": "963d761e",
   "metadata": {},
   "outputs": [
    {
     "name": "stdout",
     "output_type": "stream",
     "text": [
      "Count of locations:  106\n"
     ]
    }
   ],
   "source": [
    "# Number of locations at the sub-ICB level represented in df_national_categories.\n",
    "count_locations = df_national_categories['sub_icb_location_name'].nunique()\n",
    "print(\"Count of locations: \", count_locations)"
   ]
  },
  {
   "cell_type": "code",
   "execution_count": 121,
   "id": "4840c21b",
   "metadata": {},
   "outputs": [
    {
     "name": "stdout",
     "output_type": "stream",
     "text": [
      "Count of locations:  106\n",
      "Count of locations in df_ad equals Count of locations in df_nc:  True\n"
     ]
    }
   ],
   "source": [
    "# Check whether the number of locations represented by 'sub_icb_location_name'\n",
    "# in 'df_national_categories'is the same as the number of locations \n",
    "# in 'df_actual_duration'.\n",
    "count_locations_ad = df_actual_duration['sub_icb_location_name'].nunique()\n",
    "print(\"Count of locations: \", count_locations_ad)\n",
    "print(\"Count of locations in df_ad equals Count of locations in df_nc: \",\n",
    "     count_locations == count_locations_ad)"
   ]
  },
  {
   "cell_type": "code",
   "execution_count": 122,
   "id": "b567d513",
   "metadata": {
    "scrolled": true
   },
   "outputs": [
    {
     "name": "stdout",
     "output_type": "stream",
     "text": [
      "Count of sub_icb locations based on ons:  106\n"
     ]
    }
   ],
   "source": [
    "# See how many locations are represented in 'df_actual_duration.sub_icb_location_ons_code'.\n",
    "count_sub_icb_locations_ons = df_actual_duration['sub_icb_location_ons_code'].nunique()\n",
    "print(\"Count of sub_icb locations based on ons: \", count_sub_icb_locations_ons)"
   ]
  },
  {
   "cell_type": "markdown",
   "id": "c93a1b12",
   "metadata": {},
   "source": [
    "**Number of locations at ICB level**"
   ]
  },
  {
   "cell_type": "code",
   "execution_count": 124,
   "id": "0d2e95b5",
   "metadata": {},
   "outputs": [
    {
     "name": "stdout",
     "output_type": "stream",
     "text": [
      "Count of icb locations based on ons in 'df_actual_duration':  42\n"
     ]
    }
   ],
   "source": [
    "# See how many locations are represented in for 'df_actual_duration.icb_ons_code'.\n",
    "count_icb_ons_ad = df_actual_duration['icb_ons_code'].nunique()\n",
    "print(\"Count of icb locations based on ons in 'df_actual_duration': \", count_icb_ons_ad)"
   ]
  },
  {
   "cell_type": "code",
   "execution_count": 125,
   "id": "f0a3d086",
   "metadata": {},
   "outputs": [
    {
     "name": "stdout",
     "output_type": "stream",
     "text": [
      "Count of icb locations based on ons in 'df_appointments_regional':  42\n"
     ]
    }
   ],
   "source": [
    "# See how many locations are represented in 'df_appointments_regional.icb_ons_code'.\n",
    "count_icb_ons_ra = df_appointments_regional['icb_ons_code'].nunique()\n",
    "print(\"Count of icb locations based on ons in 'df_appointments_regional': \", count_icb_ons_ra)"
   ]
  },
  {
   "cell_type": "code",
   "execution_count": 126,
   "id": "87a100c1",
   "metadata": {},
   "outputs": [
    {
     "name": "stdout",
     "output_type": "stream",
     "text": [
      "Count of icb locations based on ons in 'df_national_categories':  42\n"
     ]
    }
   ],
   "source": [
    "# See how many locations are represented in 'df_national_categories.icb_ons_code'.\n",
    "count_icb_ons_nc = df_national_categories['icb_ons_code'].nunique()\n",
    "print(\"Count of icb locations based on ons in 'df_national_categories': \", count_icb_ons_nc)"
   ]
  },
  {
   "cell_type": "markdown",
   "id": "5d59194c",
   "metadata": {},
   "source": [
    "**Number of locations at region level**"
   ]
  },
  {
   "cell_type": "code",
   "execution_count": 127,
   "id": "eee896b2",
   "metadata": {},
   "outputs": [
    {
     "name": "stdout",
     "output_type": "stream",
     "text": [
      "Count of regions based on ons in 'df_actual_duration':  7\n"
     ]
    }
   ],
   "source": [
    "# See how many regions are represented in 'df_actual_duration.region_ons_code'.\n",
    "count_region_ons_ad = df_actual_duration['region_ons_code'].nunique()\n",
    "print(\"Count of regions based on ons in 'df_actual_duration': \", count_region_ons_ad)"
   ]
  },
  {
   "cell_type": "markdown",
   "id": "1cc6702c",
   "metadata": {},
   "source": [
    "**Question 2**\\\n",
    "What are the five locations with the highest number of records?"
   ]
  },
  {
   "cell_type": "markdown",
   "id": "dcf944e7",
   "metadata": {},
   "source": [
    "**Answer**\n",
    "\n",
    "| Location | Records Absolute Terms | Records % of Total |\n",
    "| ---- | ---- | ---- |\n",
    "| North West London | 13,007 | 1.6% |\n",
    "| ---- | ---- | ---- |\n",
    "| Kent and Medway | 12,637 | 1.5% |\n",
    "| ---- | ---- | ---- |\n",
    "| Devon | 12,526 | 1.5% |\n",
    "| ---- | ---- | ---- |\n",
    "| Hampshire and Isle of Wight | 12,171 | 1.5% |\n",
    "| ---- | ---- | ---- |\n",
    "| North East London | 11,837 | 1.4% |"
   ]
  },
  {
   "cell_type": "markdown",
   "id": "92a64899",
   "metadata": {},
   "source": [
    "**Approach**"
   ]
  },
  {
   "cell_type": "code",
   "execution_count": 128,
   "id": "2182bad4",
   "metadata": {},
   "outputs": [
    {
     "data": {
      "text/plain": [
       "NHS North West London ICB - W2U3Z              13007\n",
       "NHS Kent and Medway ICB - 91Q                  12637\n",
       "NHS Devon ICB - 15N                            12526\n",
       "NHS Hampshire and Isle Of Wight ICB - D9Y0V    12171\n",
       "NHS North East London ICB - A3A8R              11837\n",
       "Name: sub_icb_location_name, dtype: int64"
      ]
     },
     "execution_count": 128,
     "metadata": {},
     "output_type": "execute_result"
    }
   ],
   "source": [
    "# Five locations with the highest number of records.\n",
    "df_locations = df_national_categories.sub_icb_location_name.value_counts()\n",
    "df_locations.head()"
   ]
  },
  {
   "cell_type": "code",
   "execution_count": 129,
   "id": "f1bfc4bd",
   "metadata": {},
   "outputs": [
    {
     "data": {
      "text/plain": [
       "NHS North West London ICB - W2U3Z              0.015913\n",
       "NHS Kent and Medway ICB - 91Q                  0.015460\n",
       "NHS Devon ICB - 15N                            0.015324\n",
       "NHS Hampshire and Isle Of Wight ICB - D9Y0V    0.014890\n",
       "NHS North East London ICB - A3A8R              0.014481\n",
       "Name: sub_icb_location_name, dtype: float64"
      ]
     },
     "execution_count": 129,
     "metadata": {},
     "output_type": "execute_result"
    }
   ],
   "source": [
    "# Five locations with the highest number of records in percentage terms.\n",
    "df_locations_norm = (\n",
    "    df_national_categories.sub_icb_location_name.value_counts(normalize=True))\n",
    "df_locations_norm.head()"
   ]
  },
  {
   "attachments": {},
   "cell_type": "markdown",
   "id": "8e21855e",
   "metadata": {},
   "source": [
    "**Question 3**\\\n",
    "How many (1) service settings, (2) context types, (3) national categories, and (4) appointment statuses are there?"
   ]
  },
  {
   "cell_type": "markdown",
   "id": "a12e4a83",
   "metadata": {},
   "source": [
    "**Answer**\n",
    "\n",
    "| Name of variable | How many categories |\n",
    "| ---- | ---- |\n",
    "| Service settings | 5 |\n",
    "| ---- | ---- |\n",
    "| Context types | 3 |\n",
    "| ---- | ---- |\n",
    "| National categories | 18 |\n",
    "| ---- | ---- |\n",
    "| Appointment statuses | 3 |\n",
    "| ---- | ---- |\n"
   ]
  },
  {
   "cell_type": "markdown",
   "id": "93bcee58",
   "metadata": {},
   "source": [
    "**Approach**"
   ]
  },
  {
   "cell_type": "markdown",
   "id": "df7a3271",
   "metadata": {},
   "source": [
    "**Service settings**"
   ]
  },
  {
   "cell_type": "code",
   "execution_count": 130,
   "id": "b46799aa",
   "metadata": {},
   "outputs": [
    {
     "name": "stdout",
     "output_type": "stream",
     "text": [
      "Count of service settings:  5\n"
     ]
    }
   ],
   "source": [
    "# How many service settings are represented in the data.\n",
    "count_service_settings = df_national_categories['service_setting'].nunique()\n",
    "print(\"Count of service settings: \", count_service_settings)"
   ]
  },
  {
   "cell_type": "code",
   "execution_count": 134,
   "id": "59f7d3b5",
   "metadata": {
    "scrolled": true
   },
   "outputs": [
    {
     "data": {
      "text/plain": [
       "General Practice             0.439536\n",
       "Primary Care Network         0.224849\n",
       "Other                        0.169794\n",
       "Extended Access Provision    0.132276\n",
       "Unmapped                     0.033544\n",
       "Name: service_setting, dtype: float64"
      ]
     },
     "execution_count": 134,
     "metadata": {},
     "output_type": "execute_result"
    }
   ],
   "source": [
    "# Number of records by sevice setting in percentage terms.\n",
    "df_service_setting_norm = (\n",
    "    df_national_categories.service_setting.value_counts(normalize=True))\n",
    "df_service_setting_norm"
   ]
  },
  {
   "cell_type": "markdown",
   "id": "ce63c74a",
   "metadata": {},
   "source": [
    "**Context types**"
   ]
  },
  {
   "cell_type": "code",
   "execution_count": 132,
   "id": "5e41d0d9",
   "metadata": {},
   "outputs": [
    {
     "name": "stdout",
     "output_type": "stream",
     "text": [
      "Count of context types:  3\n"
     ]
    }
   ],
   "source": [
    "# How many context types are represented in the data.\n",
    "count_context_types = df_national_categories['context_type'].nunique()\n",
    "print(\"Count of context types: \", count_context_types)"
   ]
  },
  {
   "cell_type": "code",
   "execution_count": 136,
   "id": "8556c76a",
   "metadata": {
    "scrolled": true
   },
   "outputs": [
    {
     "data": {
      "text/plain": [
       "Care Related Encounter    0.856969\n",
       "Inconsistent Mapping      0.109487\n",
       "Unmapped                  0.033544\n",
       "Name: context_type, dtype: float64"
      ]
     },
     "execution_count": 136,
     "metadata": {},
     "output_type": "execute_result"
    }
   ],
   "source": [
    "# Number of records by context type in percentage terms.\n",
    "df_context_type_norm = (\n",
    "    df_national_categories.context_type.value_counts(normalize=True))\n",
    "df_context_type_norm"
   ]
  },
  {
   "cell_type": "markdown",
   "id": "dd10815e",
   "metadata": {},
   "source": [
    "**National categories**"
   ]
  },
  {
   "cell_type": "code",
   "execution_count": 137,
   "id": "60db0c5a",
   "metadata": {},
   "outputs": [
    {
     "name": "stdout",
     "output_type": "stream",
     "text": [
      "Count of national categories:  18\n"
     ]
    }
   ],
   "source": [
    "# How many national categories are represented in the data.\n",
    "count_national_categories = df_national_categories['national_category'].nunique()\n",
    "print(\"Count of national categories: \", count_national_categories)"
   ]
  },
  {
   "cell_type": "code",
   "execution_count": 138,
   "id": "6a6dbff7",
   "metadata": {
    "scrolled": false
   },
   "outputs": [
    {
     "data": {
      "text/plain": [
       "Inconsistent Mapping                                                   0.109487\n",
       "General Consultation Routine                                           0.109285\n",
       "General Consultation Acute                                             0.103835\n",
       "Planned Clinics                                                        0.093503\n",
       "Clinical Triage                                                        0.091191\n",
       "Planned Clinical Procedure                                             0.072953\n",
       "Structured Medication Review                                           0.054401\n",
       "Service provided by organisation external to the practice              0.052722\n",
       "Home Visit                                                             0.051199\n",
       "Unplanned Clinical Activity                                            0.049444\n",
       "Patient contact during Care Home Round                                 0.035228\n",
       "Unmapped                                                               0.033544\n",
       "Care Home Visit                                                        0.032596\n",
       "Social Prescribing Service                                             0.032410\n",
       "Care Home Needs Assessment & Personalised Care and Support Planning    0.028756\n",
       "Non-contractual chargeable work                                        0.025564\n",
       "Walk-in                                                                0.017347\n",
       "Group Consultation and Group Education                                 0.006534\n",
       "Name: national_category, dtype: float64"
      ]
     },
     "execution_count": 138,
     "metadata": {},
     "output_type": "execute_result"
    }
   ],
   "source": [
    "# Number of records by national category in percentage terms.\n",
    "df_nat_cat_norm = (\n",
    "    df_national_categories.national_category.value_counts(normalize=True))\n",
    "df_nat_cat_norm"
   ]
  },
  {
   "cell_type": "markdown",
   "id": "bdfcbd56",
   "metadata": {},
   "source": [
    "**Appointment statuses**"
   ]
  },
  {
   "cell_type": "code",
   "execution_count": 139,
   "id": "72121e93",
   "metadata": {},
   "outputs": [
    {
     "data": {
      "text/plain": [
       "['Care Related Encounter', 'Unmapped', 'Inconsistent Mapping']"
      ]
     },
     "execution_count": 139,
     "metadata": {},
     "output_type": "execute_result"
    }
   ],
   "source": [
    "# Unique values in 'context_type'.\n",
    "pd.unique(df_national_categories['context_type']).tolist()"
   ]
  },
  {
   "cell_type": "markdown",
   "id": "f2b346e7",
   "metadata": {},
   "source": [
    "# Other questions before we move on to Activity 3\n",
    "The following may help gain a deeper understanding of the data before we move on to Activity 3:\n",
    "1. Is the number of locations at sub-icb level as shown by 'sub_icb_location_name' and 'sub_icb_location_code' the same in 'df_actual_duration' as it is in 'df_national_categories'?\n",
    "2. Are the locations repreented by the 'icb_ons_code' data consistent across the three DataFrames? \n",
    "3. Why could we not have the 'sub_icb_location' breakdown in 'df_regional_appointments'?\n",
    "4. Is the count of appointments consistent across the three DataFrames?"
   ]
  },
  {
   "cell_type": "markdown",
   "id": "3fa47640",
   "metadata": {},
   "source": [
    "### Appointments"
   ]
  },
  {
   "cell_type": "code",
   "execution_count": 140,
   "id": "78ef8603",
   "metadata": {},
   "outputs": [
    {
     "data": {
      "text/plain": [
       "['31-60 Minutes',\n",
       " '21-30 Minutes',\n",
       " '6-10 Minutes',\n",
       " 'Unknown / Data Quality',\n",
       " '16-20 Minutes',\n",
       " '11-15 Minutes',\n",
       " '1-5 Minutes']"
      ]
     },
     "execution_count": 140,
     "metadata": {},
     "output_type": "execute_result"
    }
   ],
   "source": [
    "# What are the 'actual_duration' categories.\n",
    "pd.unique(df_actual_duration['actual_duration']).tolist()"
   ]
  },
  {
   "cell_type": "code",
   "execution_count": 141,
   "id": "14d949d9",
   "metadata": {},
   "outputs": [
    {
     "data": {
      "text/plain": [
       "['1 Day',\n",
       " '15  to 21 Days',\n",
       " '2 to 7 Days',\n",
       " '22  to 28 Days',\n",
       " '8  to 14 Days',\n",
       " 'More than 28 Days',\n",
       " 'Same Day',\n",
       " 'Unknown / Data Quality']"
      ]
     },
     "execution_count": 141,
     "metadata": {},
     "output_type": "execute_result"
    }
   ],
   "source": [
    "# What are the 'time_between_book_and_appointment' categories.\n",
    "pd.unique(df_appointments_regional['time_between_book_and_appointment']).tolist()"
   ]
  },
  {
   "cell_type": "code",
   "execution_count": 142,
   "id": "d6f173cf",
   "metadata": {},
   "outputs": [
    {
     "data": {
      "text/plain": [
       "167980692"
      ]
     },
     "execution_count": 142,
     "metadata": {},
     "output_type": "execute_result"
    }
   ],
   "source": [
    "# Calculate the sum of appointments in 'df_actual_duration'\n",
    "np.sum(df_actual_duration['count_of_appointments'])"
   ]
  },
  {
   "cell_type": "code",
   "execution_count": 143,
   "id": "4b8883c8",
   "metadata": {},
   "outputs": [
    {
     "data": {
      "text/plain": [
       "742804525"
      ]
     },
     "execution_count": 143,
     "metadata": {},
     "output_type": "execute_result"
    }
   ],
   "source": [
    "# Calculate the sum of appointments in 'df_appointments_regional'\n",
    "np.sum(df_appointments_regional['count_of_appointments'])"
   ]
  },
  {
   "cell_type": "code",
   "execution_count": 144,
   "id": "8a09adcd",
   "metadata": {},
   "outputs": [
    {
     "data": {
      "text/plain": [
       "296046770"
      ]
     },
     "execution_count": 144,
     "metadata": {},
     "output_type": "execute_result"
    }
   ],
   "source": [
    "# Calculate the sum of appointments in 'df_national_categories'\n",
    "np.sum(df_national_categories['count_of_appointments'])"
   ]
  },
  {
   "cell_type": "markdown",
   "id": "67dac3ab",
   "metadata": {},
   "source": [
    "**Insight**\\\n",
    "Given the results of activity 3 below, the difference in the total number of appointments across the three data sets might be explained by the difference in the time periods represented in each:\n",
    "\n",
    "| DataFrame           | Time period         | Total number of appointments |\n",
    "| ---------------------------- | ---------------------------- | ---------------------------- |\n",
    "| df_actual_duration  | Dec 2021 - Jun 2022 (seven months) | 168 million                  |\n",
    "| ---------------------------- | ---------------------------- | ---------------------------- |\n",
    "| df_appointments_regional | Jan 2020 - Jun 2022 (thirty months) | 743 million |\n",
    "| ---------------------------- | ---------------------------- | ---------------------------- |\n",
    "| df_national categories | Aug 2021 - June 2022 (eleven months) | 296 million |\n",
    "| ---------------------------- | ---------------------------- | ---------------------------- |"
   ]
  },
  {
   "cell_type": "markdown",
   "id": "c5c95101",
   "metadata": {},
   "source": [
    "# <span style=\"color:purple\">Assignment Activity 3"
   ]
  },
  {
   "cell_type": "markdown",
   "id": "21b02d30",
   "metadata": {},
   "source": [
    "### Continue to explore the data and search for answers to more specific questions posed by the NHS"
   ]
  },
  {
   "cell_type": "markdown",
   "id": "7fd23874",
   "metadata": {},
   "source": [
    "**Question 1**\\\n",
    "Between what dates were appointments scheduled?"
   ]
  },
  {
   "cell_type": "markdown",
   "id": "687ab541",
   "metadata": {},
   "source": [
    "**Answer**\\\n",
    "In 'df_actual_duration' we can see appointment dates are between 1 December 2021 and 30 June 2022 (seven months).\\\n",
    "In 'df_national_categories' we can see appointment dates are between 1 August 2021 and 30 June 2022 (eleven months).\\\n",
    "\\\n",
    "The third DataFrame, 'df_appointments_regional', includes an 'appointment_month' Series but not 'appointment_date'.\\\n",
    "Based on 'appointment_month' in df_appointments_regional', we see appointments between January 2020 and June 2022 (30 months).\\\n",
    "\\\n",
    "The difference in the length of the time periods covered might explain why the sum of appointment counts is different in the three DataFrames, as we saw just before we started Activity 3."
   ]
  },
  {
   "cell_type": "markdown",
   "id": "55ee120b",
   "metadata": {},
   "source": [
    "**Approach**\\\n",
    "A column named 'appointment_date' is in 'df_actual_duration' and in 'df_national_categories'.\\\n",
    "We'll check the data type of the 'appointment_date' column in both DataFrames, and we'll change it to *datetime* if it's not already that.\\\n",
    "Then we'll check the first and last date in each of the two DataFrames to see whether they cover the same period."
   ]
  },
  {
   "cell_type": "markdown",
   "id": "914b32f5",
   "metadata": {},
   "source": [
    "###### 'appointment_date' in 'df_actual_duration'"
   ]
  },
  {
   "cell_type": "code",
   "execution_count": 145,
   "id": "bacb3a0c",
   "metadata": {},
   "outputs": [
    {
     "data": {
      "text/plain": [
       "0        2021-12-01\n",
       "1        2021-12-01\n",
       "2        2021-12-01\n",
       "3        2021-12-01\n",
       "4        2021-12-01\n",
       "            ...    \n",
       "137788   2022-06-30\n",
       "137789   2022-06-30\n",
       "137790   2022-06-30\n",
       "137791   2022-06-30\n",
       "137792   2022-06-30\n",
       "Name: appointment_date, Length: 137793, dtype: datetime64[ns]"
      ]
     },
     "execution_count": 145,
     "metadata": {},
     "output_type": "execute_result"
    }
   ],
   "source": [
    "# View the first and last five rows of 'appointment_date'\n",
    "# for 'df_actual_duration' to determine the date format.\n",
    "df_actual_duration['appointment_date']"
   ]
  },
  {
   "cell_type": "markdown",
   "id": "0bdb5632",
   "metadata": {},
   "source": [
    "**Comment**\\\n",
    "The data type is *object* (i.e., *string*), and it looks like the time period is from 1 Dec 2021 to 30 June 2022.\\\n",
    "First, I'll change the data type to *datetime*.\\\n",
    "Then I'll check if that's indeed the time period with the min() and max() functions."
   ]
  },
  {
   "cell_type": "code",
   "execution_count": 146,
   "id": "31837fb7",
   "metadata": {},
   "outputs": [],
   "source": [
    "# Change the data type of 'appointment_date' in 'df_actual_duration'\n",
    "# to datetime\n",
    "df_actual_duration.appointment_date = pd.to_datetime(df_actual_duration.appointment_date)"
   ]
  },
  {
   "cell_type": "code",
   "execution_count": 215,
   "id": "e50c50f3",
   "metadata": {},
   "outputs": [
    {
     "data": {
      "text/plain": [
       "sub_icb_location_code                object\n",
       "sub_icb_location_ons_code            object\n",
       "sub_icb_location_name                object\n",
       "icb_ons_code                         object\n",
       "region_ons_code                      object\n",
       "appointment_date             datetime64[ns]\n",
       "actual_duration                      object\n",
       "count_of_appointments                 int64\n",
       "dtype: object"
      ]
     },
     "execution_count": 215,
     "metadata": {},
     "output_type": "execute_result"
    }
   ],
   "source": [
    "# Check the data type now shows as datetime - dtypes method.\n",
    "df_actual_duration.dtypes"
   ]
  },
  {
   "cell_type": "code",
   "execution_count": 213,
   "id": "8bd16265",
   "metadata": {},
   "outputs": [
    {
     "data": {
      "text/plain": [
       "0   2021-12-01\n",
       "1   2021-12-01\n",
       "2   2021-12-01\n",
       "Name: appointment_date, dtype: datetime64[ns]"
      ]
     },
     "execution_count": 213,
     "metadata": {},
     "output_type": "execute_result"
    }
   ],
   "source": [
    "# Check the data type now shows as datetime - head() method.\n",
    "df_actual_duration.appointment_date.head(3)"
   ]
  },
  {
   "cell_type": "code",
   "execution_count": 148,
   "id": "63b97514",
   "metadata": {},
   "outputs": [
    {
     "data": {
      "text/plain": [
       "Timestamp('2021-12-01 00:00:00')"
      ]
     },
     "execution_count": 148,
     "metadata": {},
     "output_type": "execute_result"
    }
   ],
   "source": [
    "# View the earliest date in df_actual_duration.appointment_date\n",
    "df_actual_duration.appointment_date.min()"
   ]
  },
  {
   "cell_type": "code",
   "execution_count": 149,
   "id": "5f203fbd",
   "metadata": {},
   "outputs": [
    {
     "data": {
      "text/plain": [
       "Timestamp('2022-06-30 00:00:00')"
      ]
     },
     "execution_count": 149,
     "metadata": {},
     "output_type": "execute_result"
    }
   ],
   "source": [
    "# View the latest date in df_actual_duration.appointment_date\n",
    "df_actual_duration.appointment_date.max()"
   ]
  },
  {
   "cell_type": "markdown",
   "id": "4526518c",
   "metadata": {},
   "source": [
    "**Result**\\\n",
    "We changed the data type for 'df_actual_duration.appointment_date' from 'string' to 'datetime' and we established the time period of our data in this DataFrame is 1 Dec 2021 to 30 June 2022 - that is seven months."
   ]
  },
  {
   "cell_type": "markdown",
   "id": "02c2b696",
   "metadata": {},
   "source": [
    "###### 'appointment_date' and 'appointment_month' in df_national_categories"
   ]
  },
  {
   "cell_type": "code",
   "execution_count": 150,
   "id": "8b5bc15d",
   "metadata": {},
   "outputs": [
    {
     "data": {
      "text/plain": [
       "0        2021-08-02\n",
       "1        2021-08-02\n",
       "2        2021-08-02\n",
       "3        2021-08-02\n",
       "4        2021-08-02\n",
       "            ...    \n",
       "817389   2022-06-30\n",
       "817390   2022-06-30\n",
       "817391   2022-06-30\n",
       "817392   2022-06-30\n",
       "817393   2022-06-30\n",
       "Name: appointment_date, Length: 817394, dtype: datetime64[ns]"
      ]
     },
     "execution_count": 150,
     "metadata": {},
     "output_type": "execute_result"
    }
   ],
   "source": [
    "# View the first five and last five rows of 'appointment_date'\n",
    "# for 'df_national_categories' to determine the date format.\n",
    "df_national_categories['appointment_date']"
   ]
  },
  {
   "cell_type": "markdown",
   "id": "a9076933",
   "metadata": {},
   "source": [
    "**Comment**\\\n",
    "The data type is *object* (i.e., *string*), and it looks like the time period is from 2 Aug 2021 to 30 June 2022.\\\n",
    "I'll change the data type to *datetime*.\\\n",
    "Then I'll check if that's indeed the time period with the min() and max() functions."
   ]
  },
  {
   "cell_type": "code",
   "execution_count": 151,
   "id": "5b499432",
   "metadata": {},
   "outputs": [],
   "source": [
    "# Change the data type of 'appointment_date' in 'df_national_categories'\n",
    "# to datetime\n",
    "df_national_categories.appointment_date = pd.to_datetime(df_national_categories.appointment_date)"
   ]
  },
  {
   "cell_type": "code",
   "execution_count": 217,
   "id": "53609a7e",
   "metadata": {},
   "outputs": [
    {
     "data": {
      "text/plain": [
       "appointment_date         datetime64[ns]\n",
       "icb_ons_code                     object\n",
       "sub_icb_location_name            object\n",
       "service_setting                  object\n",
       "context_type                     object\n",
       "national_category                object\n",
       "count_of_appointments             int64\n",
       "appointment_month        datetime64[ns]\n",
       "dtype: object"
      ]
     },
     "execution_count": 217,
     "metadata": {},
     "output_type": "execute_result"
    }
   ],
   "source": [
    "# Check the data type now shows as datetime - dtypes method\n",
    "df_national_categories.dtypes"
   ]
  },
  {
   "cell_type": "code",
   "execution_count": 216,
   "id": "c7dcd94d",
   "metadata": {},
   "outputs": [
    {
     "data": {
      "text/plain": [
       "0   2021-08-02\n",
       "1   2021-08-02\n",
       "2   2021-08-02\n",
       "Name: appointment_date, dtype: datetime64[ns]"
      ]
     },
     "execution_count": 216,
     "metadata": {},
     "output_type": "execute_result"
    }
   ],
   "source": [
    "# Check the data type now shows as datetime - head() method\n",
    "df_national_categories.appointment_date.head(3)"
   ]
  },
  {
   "cell_type": "code",
   "execution_count": 153,
   "id": "80b4268b",
   "metadata": {},
   "outputs": [
    {
     "data": {
      "text/plain": [
       "Timestamp('2021-08-01 00:00:00')"
      ]
     },
     "execution_count": 153,
     "metadata": {},
     "output_type": "execute_result"
    }
   ],
   "source": [
    "df_national_categories['appointment_date'].min()"
   ]
  },
  {
   "cell_type": "code",
   "execution_count": 154,
   "id": "a64cdaf3",
   "metadata": {},
   "outputs": [
    {
     "data": {
      "text/plain": [
       "Timestamp('2022-06-30 00:00:00')"
      ]
     },
     "execution_count": 154,
     "metadata": {},
     "output_type": "execute_result"
    }
   ],
   "source": [
    "df_national_categories['appointment_date'].max()"
   ]
  },
  {
   "cell_type": "markdown",
   "id": "35160f1a",
   "metadata": {},
   "source": [
    "**Result**\\\n",
    "We changed the data type for 'df_national_categories' from 'string' to 'datetime' and we established the time period of our data in this DataFrame is 1 Aug 2021 to 30 June 2022 - that is eleven months."
   ]
  },
  {
   "cell_type": "markdown",
   "id": "e60f0368",
   "metadata": {},
   "source": [
    "###### 'appointment_month' in df_appointments_regional"
   ]
  },
  {
   "cell_type": "markdown",
   "id": "557af7c4",
   "metadata": {},
   "source": [
    "Out of curiosity and for completeness, let's see the range of appointment months in df_appointments_regional."
   ]
  },
  {
   "cell_type": "code",
   "execution_count": 221,
   "id": "b7a3f927",
   "metadata": {},
   "outputs": [],
   "source": [
    "# Change the data type of 'appointment_month' in 'df_appointments_regional'.\n",
    "# to datetime\n",
    "df_appointments_regional.appointment_month = pd.to_datetime(df_appointments_regional.appointment_month)"
   ]
  },
  {
   "cell_type": "code",
   "execution_count": 220,
   "id": "a44ab0d8",
   "metadata": {},
   "outputs": [
    {
     "data": {
      "text/plain": [
       "0   2020-01-01\n",
       "1   2020-01-01\n",
       "2   2020-01-01\n",
       "Name: appointment_month, dtype: datetime64[ns]"
      ]
     },
     "execution_count": 220,
     "metadata": {},
     "output_type": "execute_result"
    }
   ],
   "source": [
    "# Check the data type now shows as datetime - head() method.\n",
    "df_appointments_regional.appointment_month.head(3)"
   ]
  },
  {
   "cell_type": "code",
   "execution_count": 222,
   "id": "6e7bd311",
   "metadata": {},
   "outputs": [
    {
     "data": {
      "text/plain": [
       "icb_ons_code                                 object\n",
       "appointment_month                    datetime64[ns]\n",
       "appointment_status                           object\n",
       "hcp_type                                     object\n",
       "appointment_mode                             object\n",
       "time_between_book_and_appointment            object\n",
       "count_of_appointments                         int64\n",
       "dtype: object"
      ]
     },
     "execution_count": 222,
     "metadata": {},
     "output_type": "execute_result"
    }
   ],
   "source": [
    "# Check the data type now shows as datetime - dtypes() method.\n",
    "df_appointments_regional.dtypes"
   ]
  },
  {
   "cell_type": "code",
   "execution_count": 157,
   "id": "5eb4abc2",
   "metadata": {},
   "outputs": [
    {
     "data": {
      "text/plain": [
       "Timestamp('2020-01-01 00:00:00')"
      ]
     },
     "execution_count": 157,
     "metadata": {},
     "output_type": "execute_result"
    }
   ],
   "source": [
    "# Earliest month.\n",
    "df_appointments_regional.appointment_month.min()"
   ]
  },
  {
   "cell_type": "code",
   "execution_count": 158,
   "id": "20e61bcb",
   "metadata": {},
   "outputs": [
    {
     "data": {
      "text/plain": [
       "Timestamp('2022-06-01 00:00:00')"
      ]
     },
     "execution_count": 158,
     "metadata": {},
     "output_type": "execute_result"
    }
   ],
   "source": [
    "# Latest month.\n",
    "df_appointments_regional.appointment_month.max()"
   ]
  },
  {
   "cell_type": "markdown",
   "id": "c6a49b63",
   "metadata": {},
   "source": [
    "**Period covered by df_appointments_regional**\\\n",
    "df_appointments_regional covers the period from January 2020 to June 2022 (30 months)."
   ]
  },
  {
   "cell_type": "markdown",
   "id": "24fffa5e",
   "metadata": {},
   "source": [
    "**'appointment_month' in df_national_categories**\\\n",
    "For consistency so that all our data that should be in datetime format is formatted correctly, I'll also change to datetime the data type of 'appointment_month' in df_national_categories."
   ]
  },
  {
   "cell_type": "code",
   "execution_count": 159,
   "id": "97138916",
   "metadata": {},
   "outputs": [],
   "source": [
    "# Change to datetime the data type of 'appointment_month' in 'df_national_categories'.\n",
    "df_national_categories.appointment_month = pd.to_datetime(df_national_categories.appointment_month)"
   ]
  },
  {
   "cell_type": "code",
   "execution_count": 160,
   "id": "e056a71e",
   "metadata": {},
   "outputs": [
    {
     "data": {
      "text/plain": [
       "Timestamp('2021-08-01 00:00:00')"
      ]
     },
     "execution_count": 160,
     "metadata": {},
     "output_type": "execute_result"
    }
   ],
   "source": [
    "# Earliest month.\n",
    "df_national_categories.appointment_month.min()"
   ]
  },
  {
   "cell_type": "code",
   "execution_count": 161,
   "id": "107397b8",
   "metadata": {},
   "outputs": [
    {
     "data": {
      "text/plain": [
       "Timestamp('2022-06-01 00:00:00')"
      ]
     },
     "execution_count": 161,
     "metadata": {},
     "output_type": "execute_result"
    }
   ],
   "source": [
    "# Latest month.\n",
    "df_national_categories.appointment_month.max()"
   ]
  },
  {
   "cell_type": "markdown",
   "id": "ef58659e",
   "metadata": {},
   "source": [
    "**** End of approach to question 1 ****"
   ]
  },
  {
   "cell_type": "markdown",
   "id": "f5de1d5d",
   "metadata": {},
   "source": [
    "**Question 2**\\\n",
    "Which service setting reported the most appointments in North West London from 1 January to 1 June 2022?\\\n",
    "\\\n",
    "Note:\\\n",
    "From Activity 2 we know there could be four service settings:\n",
    "- **General Practice**: appointments delivering GP services in core contractual hours.\n",
    "- **Extended Access Provision**: appointments delivering GP services outside of core contractual hours, either in the early morning, evening or at weekends.\n",
    "- **Primary Care Network**: appointments delivering services by healthcare professionals other than GPs (for example 'clinical pharmacists', 'first contact physiotherapists', and 'health and wellbeing coaches')\n",
    "- **Other**: appointments delivering services at the GP surgery, but by other service providers. "
   ]
  },
  {
   "cell_type": "markdown",
   "id": "17793e78",
   "metadata": {},
   "source": [
    "**Answer**\\\n",
    "Our groupby() analysis below shows the four 'service_setting' categories above plus a fifth ('Unmapped').\\\n",
    "The service setting that reported the most appointments in North West London from 1 January to 1 June 2022 was:\\\n",
    "**'General Practice' at 4.8 million**, followed by 'Unmapped' at 391k."
   ]
  },
  {
   "attachments": {},
   "cell_type": "markdown",
   "id": "be12116f",
   "metadata": {},
   "source": [
    "**Approach**\\\n",
    "\\\n",
    "The 'sevice_setting' variable is in 'df_national_categories'.\\\n",
    "'df_national_categories' also includes the variables for 'sub_icb_location_name' and 'appointment_date'.\\\n",
    "Therefore, we will first create a subset of 'df_national_categories' filtering for:\n",
    "* sub_icb_location_name == 'NHS North West London ICB - W2U3Z'\n",
    "* 'appointment_date' from 1 January to 1 June 2022"
   ]
  },
  {
   "cell_type": "code",
   "execution_count": 168,
   "id": "ae8e6f4e",
   "metadata": {},
   "outputs": [],
   "source": [
    "# Create a filter for 'NHS North West London ICB - W2U3Z'.\n",
    "filt = (df_national_categories['sub_icb_location_name'] == 'NHS North West London ICB - W2U3Z')"
   ]
  },
  {
   "cell_type": "code",
   "execution_count": 166,
   "id": "931cdbea",
   "metadata": {},
   "outputs": [],
   "source": [
    "# Create subset of df_national_categories\n",
    "df_nc_NWL_subset = df_national_categories[filt]"
   ]
  },
  {
   "cell_type": "code",
   "execution_count": 169,
   "id": "e6bba6e1",
   "metadata": {},
   "outputs": [
    {
     "data": {
      "text/html": [
       "<div>\n",
       "<style scoped>\n",
       "    .dataframe tbody tr th:only-of-type {\n",
       "        vertical-align: middle;\n",
       "    }\n",
       "\n",
       "    .dataframe tbody tr th {\n",
       "        vertical-align: top;\n",
       "    }\n",
       "\n",
       "    .dataframe thead th {\n",
       "        text-align: right;\n",
       "    }\n",
       "</style>\n",
       "<table border=\"1\" class=\"dataframe\">\n",
       "  <thead>\n",
       "    <tr style=\"text-align: right;\">\n",
       "      <th></th>\n",
       "      <th>appointment_date</th>\n",
       "      <th>icb_ons_code</th>\n",
       "      <th>sub_icb_location_name</th>\n",
       "      <th>service_setting</th>\n",
       "      <th>context_type</th>\n",
       "      <th>national_category</th>\n",
       "      <th>count_of_appointments</th>\n",
       "      <th>appointment_month</th>\n",
       "    </tr>\n",
       "  </thead>\n",
       "  <tbody>\n",
       "    <tr>\n",
       "      <th>794321</th>\n",
       "      <td>2021-08-01</td>\n",
       "      <td>E54000027</td>\n",
       "      <td>NHS North West London ICB - W2U3Z</td>\n",
       "      <td>Unmapped</td>\n",
       "      <td>Unmapped</td>\n",
       "      <td>Unmapped</td>\n",
       "      <td>607</td>\n",
       "      <td>2021-08-01</td>\n",
       "    </tr>\n",
       "    <tr>\n",
       "      <th>794322</th>\n",
       "      <td>2021-08-01</td>\n",
       "      <td>E54000027</td>\n",
       "      <td>NHS North West London ICB - W2U3Z</td>\n",
       "      <td>Other</td>\n",
       "      <td>Inconsistent Mapping</td>\n",
       "      <td>Inconsistent Mapping</td>\n",
       "      <td>6</td>\n",
       "      <td>2021-08-01</td>\n",
       "    </tr>\n",
       "    <tr>\n",
       "      <th>794323</th>\n",
       "      <td>2021-08-01</td>\n",
       "      <td>E54000027</td>\n",
       "      <td>NHS North West London ICB - W2U3Z</td>\n",
       "      <td>General Practice</td>\n",
       "      <td>Inconsistent Mapping</td>\n",
       "      <td>Inconsistent Mapping</td>\n",
       "      <td>47</td>\n",
       "      <td>2021-08-01</td>\n",
       "    </tr>\n",
       "    <tr>\n",
       "      <th>794324</th>\n",
       "      <td>2021-08-01</td>\n",
       "      <td>E54000027</td>\n",
       "      <td>NHS North West London ICB - W2U3Z</td>\n",
       "      <td>General Practice</td>\n",
       "      <td>Care Related Encounter</td>\n",
       "      <td>Walk-in</td>\n",
       "      <td>74</td>\n",
       "      <td>2021-08-01</td>\n",
       "    </tr>\n",
       "    <tr>\n",
       "      <th>794325</th>\n",
       "      <td>2021-08-01</td>\n",
       "      <td>E54000027</td>\n",
       "      <td>NHS North West London ICB - W2U3Z</td>\n",
       "      <td>General Practice</td>\n",
       "      <td>Care Related Encounter</td>\n",
       "      <td>Planned Clinics</td>\n",
       "      <td>98</td>\n",
       "      <td>2021-08-01</td>\n",
       "    </tr>\n",
       "    <tr>\n",
       "      <th>...</th>\n",
       "      <td>...</td>\n",
       "      <td>...</td>\n",
       "      <td>...</td>\n",
       "      <td>...</td>\n",
       "      <td>...</td>\n",
       "      <td>...</td>\n",
       "      <td>...</td>\n",
       "      <td>...</td>\n",
       "    </tr>\n",
       "    <tr>\n",
       "      <th>807323</th>\n",
       "      <td>2022-06-30</td>\n",
       "      <td>E54000027</td>\n",
       "      <td>NHS North West London ICB - W2U3Z</td>\n",
       "      <td>Extended Access Provision</td>\n",
       "      <td>Care Related Encounter</td>\n",
       "      <td>Planned Clinical Procedure</td>\n",
       "      <td>6</td>\n",
       "      <td>2022-06-01</td>\n",
       "    </tr>\n",
       "    <tr>\n",
       "      <th>807324</th>\n",
       "      <td>2022-06-30</td>\n",
       "      <td>E54000027</td>\n",
       "      <td>NHS North West London ICB - W2U3Z</td>\n",
       "      <td>Extended Access Provision</td>\n",
       "      <td>Care Related Encounter</td>\n",
       "      <td>General Consultation Routine</td>\n",
       "      <td>25</td>\n",
       "      <td>2022-06-01</td>\n",
       "    </tr>\n",
       "    <tr>\n",
       "      <th>807325</th>\n",
       "      <td>2022-06-30</td>\n",
       "      <td>E54000027</td>\n",
       "      <td>NHS North West London ICB - W2U3Z</td>\n",
       "      <td>Extended Access Provision</td>\n",
       "      <td>Care Related Encounter</td>\n",
       "      <td>General Consultation Acute</td>\n",
       "      <td>217</td>\n",
       "      <td>2022-06-01</td>\n",
       "    </tr>\n",
       "    <tr>\n",
       "      <th>807326</th>\n",
       "      <td>2022-06-30</td>\n",
       "      <td>E54000027</td>\n",
       "      <td>NHS North West London ICB - W2U3Z</td>\n",
       "      <td>Extended Access Provision</td>\n",
       "      <td>Care Related Encounter</td>\n",
       "      <td>Clinical Triage</td>\n",
       "      <td>103</td>\n",
       "      <td>2022-06-01</td>\n",
       "    </tr>\n",
       "    <tr>\n",
       "      <th>807327</th>\n",
       "      <td>2022-06-30</td>\n",
       "      <td>E54000027</td>\n",
       "      <td>NHS North West London ICB - W2U3Z</td>\n",
       "      <td>General Practice</td>\n",
       "      <td>Care Related Encounter</td>\n",
       "      <td>Service provided by organisation external to t...</td>\n",
       "      <td>24</td>\n",
       "      <td>2022-06-01</td>\n",
       "    </tr>\n",
       "  </tbody>\n",
       "</table>\n",
       "<p>13007 rows × 8 columns</p>\n",
       "</div>"
      ],
      "text/plain": [
       "       appointment_date icb_ons_code              sub_icb_location_name  \\\n",
       "794321       2021-08-01    E54000027  NHS North West London ICB - W2U3Z   \n",
       "794322       2021-08-01    E54000027  NHS North West London ICB - W2U3Z   \n",
       "794323       2021-08-01    E54000027  NHS North West London ICB - W2U3Z   \n",
       "794324       2021-08-01    E54000027  NHS North West London ICB - W2U3Z   \n",
       "794325       2021-08-01    E54000027  NHS North West London ICB - W2U3Z   \n",
       "...                 ...          ...                                ...   \n",
       "807323       2022-06-30    E54000027  NHS North West London ICB - W2U3Z   \n",
       "807324       2022-06-30    E54000027  NHS North West London ICB - W2U3Z   \n",
       "807325       2022-06-30    E54000027  NHS North West London ICB - W2U3Z   \n",
       "807326       2022-06-30    E54000027  NHS North West London ICB - W2U3Z   \n",
       "807327       2022-06-30    E54000027  NHS North West London ICB - W2U3Z   \n",
       "\n",
       "                  service_setting            context_type  \\\n",
       "794321                   Unmapped                Unmapped   \n",
       "794322                      Other    Inconsistent Mapping   \n",
       "794323           General Practice    Inconsistent Mapping   \n",
       "794324           General Practice  Care Related Encounter   \n",
       "794325           General Practice  Care Related Encounter   \n",
       "...                           ...                     ...   \n",
       "807323  Extended Access Provision  Care Related Encounter   \n",
       "807324  Extended Access Provision  Care Related Encounter   \n",
       "807325  Extended Access Provision  Care Related Encounter   \n",
       "807326  Extended Access Provision  Care Related Encounter   \n",
       "807327           General Practice  Care Related Encounter   \n",
       "\n",
       "                                        national_category  \\\n",
       "794321                                           Unmapped   \n",
       "794322                               Inconsistent Mapping   \n",
       "794323                               Inconsistent Mapping   \n",
       "794324                                            Walk-in   \n",
       "794325                                    Planned Clinics   \n",
       "...                                                   ...   \n",
       "807323                         Planned Clinical Procedure   \n",
       "807324                       General Consultation Routine   \n",
       "807325                         General Consultation Acute   \n",
       "807326                                    Clinical Triage   \n",
       "807327  Service provided by organisation external to t...   \n",
       "\n",
       "        count_of_appointments appointment_month  \n",
       "794321                    607        2021-08-01  \n",
       "794322                      6        2021-08-01  \n",
       "794323                     47        2021-08-01  \n",
       "794324                     74        2021-08-01  \n",
       "794325                     98        2021-08-01  \n",
       "...                       ...               ...  \n",
       "807323                      6        2022-06-01  \n",
       "807324                     25        2022-06-01  \n",
       "807325                    217        2022-06-01  \n",
       "807326                    103        2022-06-01  \n",
       "807327                     24        2022-06-01  \n",
       "\n",
       "[13007 rows x 8 columns]"
      ]
     },
     "execution_count": 169,
     "metadata": {},
     "output_type": "execute_result"
    }
   ],
   "source": [
    "# View subset\n",
    "df_nc_NWL_subset"
   ]
  },
  {
   "cell_type": "code",
   "execution_count": 173,
   "id": "edc5492d",
   "metadata": {},
   "outputs": [
    {
     "name": "stdout",
     "output_type": "stream",
     "text": [
      "<class 'pandas.core.frame.DataFrame'>\n",
      "Int64Index: 13007 entries, 794321 to 807327\n",
      "Data columns (total 8 columns):\n",
      " #   Column                 Non-Null Count  Dtype         \n",
      "---  ------                 --------------  -----         \n",
      " 0   appointment_date       13007 non-null  datetime64[ns]\n",
      " 1   icb_ons_code           13007 non-null  object        \n",
      " 2   sub_icb_location_name  13007 non-null  object        \n",
      " 3   service_setting        13007 non-null  object        \n",
      " 4   context_type           13007 non-null  object        \n",
      " 5   national_category      13007 non-null  object        \n",
      " 6   count_of_appointments  13007 non-null  int64         \n",
      " 7   appointment_month      13007 non-null  datetime64[ns]\n",
      "dtypes: datetime64[ns](2), int64(1), object(5)\n",
      "memory usage: 914.6+ KB\n"
     ]
    }
   ],
   "source": [
    "# See subset info\n",
    "df_nc_NWL_subset.info()"
   ]
  },
  {
   "cell_type": "code",
   "execution_count": 175,
   "id": "ad679cc8",
   "metadata": {},
   "outputs": [
    {
     "data": {
      "text/html": [
       "<div>\n",
       "<style scoped>\n",
       "    .dataframe tbody tr th:only-of-type {\n",
       "        vertical-align: middle;\n",
       "    }\n",
       "\n",
       "    .dataframe tbody tr th {\n",
       "        vertical-align: top;\n",
       "    }\n",
       "\n",
       "    .dataframe thead th {\n",
       "        text-align: right;\n",
       "    }\n",
       "</style>\n",
       "<table border=\"1\" class=\"dataframe\">\n",
       "  <thead>\n",
       "    <tr style=\"text-align: right;\">\n",
       "      <th></th>\n",
       "      <th>appointment_date</th>\n",
       "      <th>icb_ons_code</th>\n",
       "      <th>sub_icb_location_name</th>\n",
       "      <th>service_setting</th>\n",
       "      <th>context_type</th>\n",
       "      <th>national_category</th>\n",
       "      <th>count_of_appointments</th>\n",
       "      <th>appointment_month</th>\n",
       "    </tr>\n",
       "  </thead>\n",
       "  <tbody>\n",
       "    <tr>\n",
       "      <th>800289</th>\n",
       "      <td>2022-01-01</td>\n",
       "      <td>E54000027</td>\n",
       "      <td>NHS North West London ICB - W2U3Z</td>\n",
       "      <td>Unmapped</td>\n",
       "      <td>Unmapped</td>\n",
       "      <td>Unmapped</td>\n",
       "      <td>496</td>\n",
       "      <td>2022-01-01</td>\n",
       "    </tr>\n",
       "    <tr>\n",
       "      <th>800290</th>\n",
       "      <td>2022-01-01</td>\n",
       "      <td>E54000027</td>\n",
       "      <td>NHS North West London ICB - W2U3Z</td>\n",
       "      <td>Primary Care Network</td>\n",
       "      <td>Care Related Encounter</td>\n",
       "      <td>Clinical Triage</td>\n",
       "      <td>19</td>\n",
       "      <td>2022-01-01</td>\n",
       "    </tr>\n",
       "    <tr>\n",
       "      <th>800291</th>\n",
       "      <td>2022-01-01</td>\n",
       "      <td>E54000027</td>\n",
       "      <td>NHS North West London ICB - W2U3Z</td>\n",
       "      <td>Other</td>\n",
       "      <td>Inconsistent Mapping</td>\n",
       "      <td>Inconsistent Mapping</td>\n",
       "      <td>1</td>\n",
       "      <td>2022-01-01</td>\n",
       "    </tr>\n",
       "    <tr>\n",
       "      <th>800292</th>\n",
       "      <td>2022-01-01</td>\n",
       "      <td>E54000027</td>\n",
       "      <td>NHS North West London ICB - W2U3Z</td>\n",
       "      <td>General Practice</td>\n",
       "      <td>Inconsistent Mapping</td>\n",
       "      <td>Inconsistent Mapping</td>\n",
       "      <td>16</td>\n",
       "      <td>2022-01-01</td>\n",
       "    </tr>\n",
       "    <tr>\n",
       "      <th>800293</th>\n",
       "      <td>2022-01-01</td>\n",
       "      <td>E54000027</td>\n",
       "      <td>NHS North West London ICB - W2U3Z</td>\n",
       "      <td>Primary Care Network</td>\n",
       "      <td>Care Related Encounter</td>\n",
       "      <td>Planned Clinics</td>\n",
       "      <td>29</td>\n",
       "      <td>2022-01-01</td>\n",
       "    </tr>\n",
       "  </tbody>\n",
       "</table>\n",
       "</div>"
      ],
      "text/plain": [
       "       appointment_date icb_ons_code              sub_icb_location_name  \\\n",
       "800289       2022-01-01    E54000027  NHS North West London ICB - W2U3Z   \n",
       "800290       2022-01-01    E54000027  NHS North West London ICB - W2U3Z   \n",
       "800291       2022-01-01    E54000027  NHS North West London ICB - W2U3Z   \n",
       "800292       2022-01-01    E54000027  NHS North West London ICB - W2U3Z   \n",
       "800293       2022-01-01    E54000027  NHS North West London ICB - W2U3Z   \n",
       "\n",
       "             service_setting            context_type     national_category  \\\n",
       "800289              Unmapped                Unmapped              Unmapped   \n",
       "800290  Primary Care Network  Care Related Encounter       Clinical Triage   \n",
       "800291                 Other    Inconsistent Mapping  Inconsistent Mapping   \n",
       "800292      General Practice    Inconsistent Mapping  Inconsistent Mapping   \n",
       "800293  Primary Care Network  Care Related Encounter       Planned Clinics   \n",
       "\n",
       "        count_of_appointments appointment_month  \n",
       "800289                    496        2022-01-01  \n",
       "800290                     19        2022-01-01  \n",
       "800291                      1        2022-01-01  \n",
       "800292                     16        2022-01-01  \n",
       "800293                     29        2022-01-01  "
      ]
     },
     "execution_count": 175,
     "metadata": {},
     "output_type": "execute_result"
    }
   ],
   "source": [
    "# Create subset for 1 January to 1 June 2022.\n",
    "df_nc_NWL_subset11_16_22 = (\n",
    "    df_nc_NWL_subset[(df_nc_NWL_subset['appointment_date'] > '2021-12-31') &\n",
    "             (df_nc_NWL_subset['appointment_date'] < '2022-06-02')]\n",
    ")\n",
    "\n",
    "# View head.\n",
    "df_nc_NWL_subset11_16_22.head()"
   ]
  },
  {
   "cell_type": "code",
   "execution_count": 176,
   "id": "ae16076a",
   "metadata": {},
   "outputs": [
    {
     "data": {
      "text/plain": [
       "(5936, 8)"
      ]
     },
     "execution_count": 176,
     "metadata": {},
     "output_type": "execute_result"
    }
   ],
   "source": [
    "# View shape.\n",
    "df_nc_NWL_subset11_16_22.shape"
   ]
  },
  {
   "cell_type": "code",
   "execution_count": 177,
   "id": "300496ba",
   "metadata": {},
   "outputs": [
    {
     "data": {
      "text/plain": [
       "Timestamp('2022-01-01 00:00:00')"
      ]
     },
     "execution_count": 177,
     "metadata": {},
     "output_type": "execute_result"
    }
   ],
   "source": [
    "# Check earliest date is 1 January 2022.\n",
    "df_nc_NWL_subset11_16_22['appointment_date'].min()"
   ]
  },
  {
   "cell_type": "code",
   "execution_count": 178,
   "id": "766012d3",
   "metadata": {},
   "outputs": [
    {
     "data": {
      "text/plain": [
       "Timestamp('2022-06-01 00:00:00')"
      ]
     },
     "execution_count": 178,
     "metadata": {},
     "output_type": "execute_result"
    }
   ],
   "source": [
    "# Check latest date is 1 June 2022.\n",
    "df_nc_NWL_subset11_16_22['appointment_date'].max()"
   ]
  },
  {
   "cell_type": "code",
   "execution_count": 223,
   "id": "e7d755b8",
   "metadata": {
    "scrolled": true
   },
   "outputs": [
    {
     "data": {
      "text/plain": [
       "service_setting\n",
       "Extended Access Provision      98159\n",
       "General Practice             4804239\n",
       "Other                         152897\n",
       "Primary Care Network          109840\n",
       "Unmapped                      391106\n",
       "Name: count_of_appointments, dtype: int64"
      ]
     },
     "execution_count": 223,
     "metadata": {},
     "output_type": "execute_result"
    }
   ],
   "source": [
    "# Group the filtered DataFrame by the categories in the 'service_setting' variable\n",
    "# and aggregate the 'count_of_appointments' with the sum function.\n",
    "service_setting_groups = df_nc_NWL_subset11_16_22.groupby('service_setting').count_of_appointments.sum()\n",
    "service_setting_groups"
   ]
  },
  {
   "cell_type": "code",
   "execution_count": 224,
   "id": "e6d2e039",
   "metadata": {},
   "outputs": [
    {
     "data": {
      "text/plain": [
       "service_setting\n",
       "General Practice             4804239\n",
       "Unmapped                      391106\n",
       "Other                         152897\n",
       "Primary Care Network          109840\n",
       "Extended Access Provision      98159\n",
       "Name: count_of_appointments, dtype: int64"
      ]
     },
     "execution_count": 224,
     "metadata": {},
     "output_type": "execute_result"
    }
   ],
   "source": [
    "# Sort 'service_setting_groups'\n",
    "service_setting_groups.sort_values(ascending=False)"
   ]
  },
  {
   "cell_type": "markdown",
   "id": "97485352",
   "metadata": {},
   "source": [
    "**** End of approach to question 2 ****"
   ]
  },
  {
   "cell_type": "markdown",
   "id": "bbc5c465",
   "metadata": {},
   "source": [
    "**Question 3**\\\n",
    "Which month had the highest number of appointments?"
   ]
  },
  {
   "cell_type": "markdown",
   "id": "d1e7b0d2",
   "metadata": {},
   "source": [
    "**Answer**\\\n",
    "The month that had the highest number of appointments was November 2021."
   ]
  },
  {
   "cell_type": "markdown",
   "id": "23482f24",
   "metadata": {},
   "source": [
    "**Approach**"
   ]
  },
  {
   "cell_type": "code",
   "execution_count": 185,
   "id": "ee563bf4",
   "metadata": {},
   "outputs": [],
   "source": [
    "# df_appointments_regional['appointment_month'].groupby ([df_appointments_regional['appointment_month'].dt.year, df_appointments_regional['appointment_month'].dt.month])    "
   ]
  },
  {
   "cell_type": "code",
   "execution_count": 186,
   "id": "9b495d7b",
   "metadata": {},
   "outputs": [
    {
     "data": {
      "text/html": [
       "<div>\n",
       "<style scoped>\n",
       "    .dataframe tbody tr th:only-of-type {\n",
       "        vertical-align: middle;\n",
       "    }\n",
       "\n",
       "    .dataframe tbody tr th {\n",
       "        vertical-align: top;\n",
       "    }\n",
       "\n",
       "    .dataframe thead th {\n",
       "        text-align: right;\n",
       "    }\n",
       "</style>\n",
       "<table border=\"1\" class=\"dataframe\">\n",
       "  <thead>\n",
       "    <tr style=\"text-align: right;\">\n",
       "      <th></th>\n",
       "      <th>icb_ons_code</th>\n",
       "      <th>appointment_month</th>\n",
       "      <th>appointment_status</th>\n",
       "      <th>hcp_type</th>\n",
       "      <th>appointment_mode</th>\n",
       "      <th>time_between_book_and_appointment</th>\n",
       "      <th>count_of_appointments</th>\n",
       "    </tr>\n",
       "  </thead>\n",
       "  <tbody>\n",
       "    <tr>\n",
       "      <th>0</th>\n",
       "      <td>E54000034</td>\n",
       "      <td>2020-01-01</td>\n",
       "      <td>Attended</td>\n",
       "      <td>GP</td>\n",
       "      <td>Face-to-Face</td>\n",
       "      <td>1 Day</td>\n",
       "      <td>8107</td>\n",
       "    </tr>\n",
       "    <tr>\n",
       "      <th>1</th>\n",
       "      <td>E54000034</td>\n",
       "      <td>2020-01-01</td>\n",
       "      <td>Attended</td>\n",
       "      <td>GP</td>\n",
       "      <td>Face-to-Face</td>\n",
       "      <td>15  to 21 Days</td>\n",
       "      <td>6791</td>\n",
       "    </tr>\n",
       "    <tr>\n",
       "      <th>2</th>\n",
       "      <td>E54000034</td>\n",
       "      <td>2020-01-01</td>\n",
       "      <td>Attended</td>\n",
       "      <td>GP</td>\n",
       "      <td>Face-to-Face</td>\n",
       "      <td>2 to 7 Days</td>\n",
       "      <td>20686</td>\n",
       "    </tr>\n",
       "    <tr>\n",
       "      <th>3</th>\n",
       "      <td>E54000034</td>\n",
       "      <td>2020-01-01</td>\n",
       "      <td>Attended</td>\n",
       "      <td>GP</td>\n",
       "      <td>Face-to-Face</td>\n",
       "      <td>22  to 28 Days</td>\n",
       "      <td>4268</td>\n",
       "    </tr>\n",
       "    <tr>\n",
       "      <th>4</th>\n",
       "      <td>E54000034</td>\n",
       "      <td>2020-01-01</td>\n",
       "      <td>Attended</td>\n",
       "      <td>GP</td>\n",
       "      <td>Face-to-Face</td>\n",
       "      <td>8  to 14 Days</td>\n",
       "      <td>11971</td>\n",
       "    </tr>\n",
       "    <tr>\n",
       "      <th>5</th>\n",
       "      <td>E54000034</td>\n",
       "      <td>2020-01-01</td>\n",
       "      <td>Attended</td>\n",
       "      <td>GP</td>\n",
       "      <td>Face-to-Face</td>\n",
       "      <td>More than 28 Days</td>\n",
       "      <td>3273</td>\n",
       "    </tr>\n",
       "    <tr>\n",
       "      <th>6</th>\n",
       "      <td>E54000034</td>\n",
       "      <td>2020-01-01</td>\n",
       "      <td>Attended</td>\n",
       "      <td>GP</td>\n",
       "      <td>Face-to-Face</td>\n",
       "      <td>Same Day</td>\n",
       "      <td>64649</td>\n",
       "    </tr>\n",
       "    <tr>\n",
       "      <th>7</th>\n",
       "      <td>E54000034</td>\n",
       "      <td>2020-01-01</td>\n",
       "      <td>Attended</td>\n",
       "      <td>GP</td>\n",
       "      <td>Home Visit</td>\n",
       "      <td>1 Day</td>\n",
       "      <td>151</td>\n",
       "    </tr>\n",
       "    <tr>\n",
       "      <th>8</th>\n",
       "      <td>E54000034</td>\n",
       "      <td>2020-01-01</td>\n",
       "      <td>Attended</td>\n",
       "      <td>GP</td>\n",
       "      <td>Home Visit</td>\n",
       "      <td>15  to 21 Days</td>\n",
       "      <td>12</td>\n",
       "    </tr>\n",
       "    <tr>\n",
       "      <th>9</th>\n",
       "      <td>E54000034</td>\n",
       "      <td>2020-01-01</td>\n",
       "      <td>Attended</td>\n",
       "      <td>GP</td>\n",
       "      <td>Home Visit</td>\n",
       "      <td>2 to 7 Days</td>\n",
       "      <td>141</td>\n",
       "    </tr>\n",
       "  </tbody>\n",
       "</table>\n",
       "</div>"
      ],
      "text/plain": [
       "  icb_ons_code appointment_month appointment_status hcp_type appointment_mode  \\\n",
       "0    E54000034        2020-01-01           Attended       GP     Face-to-Face   \n",
       "1    E54000034        2020-01-01           Attended       GP     Face-to-Face   \n",
       "2    E54000034        2020-01-01           Attended       GP     Face-to-Face   \n",
       "3    E54000034        2020-01-01           Attended       GP     Face-to-Face   \n",
       "4    E54000034        2020-01-01           Attended       GP     Face-to-Face   \n",
       "5    E54000034        2020-01-01           Attended       GP     Face-to-Face   \n",
       "6    E54000034        2020-01-01           Attended       GP     Face-to-Face   \n",
       "7    E54000034        2020-01-01           Attended       GP       Home Visit   \n",
       "8    E54000034        2020-01-01           Attended       GP       Home Visit   \n",
       "9    E54000034        2020-01-01           Attended       GP       Home Visit   \n",
       "\n",
       "  time_between_book_and_appointment  count_of_appointments  \n",
       "0                             1 Day                   8107  \n",
       "1                    15  to 21 Days                   6791  \n",
       "2                       2 to 7 Days                  20686  \n",
       "3                    22  to 28 Days                   4268  \n",
       "4                     8  to 14 Days                  11971  \n",
       "5                 More than 28 Days                   3273  \n",
       "6                          Same Day                  64649  \n",
       "7                             1 Day                    151  \n",
       "8                    15  to 21 Days                     12  \n",
       "9                       2 to 7 Days                    141  "
      ]
     },
     "execution_count": 186,
     "metadata": {},
     "output_type": "execute_result"
    }
   ],
   "source": [
    "df_appointments_regional.head(10)"
   ]
  },
  {
   "cell_type": "code",
   "execution_count": 199,
   "id": "fe0212b7",
   "metadata": {},
   "outputs": [],
   "source": [
    "appnt_month_ar = df_appointments_regional.groupby('appointment_month').count_of_appointments.sum()"
   ]
  },
  {
   "cell_type": "code",
   "execution_count": 205,
   "id": "9389004c",
   "metadata": {
    "scrolled": true
   },
   "outputs": [
    {
     "data": {
      "text/plain": [
       "appointment_month\n",
       "2021-11-01    30405070\n",
       "2021-10-01    30303834\n",
       "2022-03-01    29595038\n",
       "2021-09-01    28522501\n",
       "2020-10-01    28301932\n",
       "2022-05-01    27495508\n",
       "2021-03-01    27225424\n",
       "2020-01-01    27199296\n",
       "2021-06-01    26784182\n",
       "2020-09-01    26714255\n",
       "2022-06-01    25828078\n",
       "2021-07-01    25739219\n",
       "2022-01-01    25635474\n",
       "2022-02-01    25355260\n",
       "2021-12-01    25140776\n",
       "2020-11-01    25061602\n",
       "2020-02-01    24104621\n",
       "2020-03-01    24053468\n",
       "2022-04-01    23913060\n",
       "2021-04-01    23879932\n",
       "2021-08-01    23852171\n",
       "2020-12-01    23535936\n",
       "2021-05-01    23508395\n",
       "2021-01-01    22492069\n",
       "2020-07-01    22491437\n",
       "2021-02-01    22399569\n",
       "2020-06-01    20690805\n",
       "2020-08-01    20150520\n",
       "2020-05-01    16417212\n",
       "2020-04-01    16007881\n",
       "Name: count_of_appointments, dtype: int64"
      ]
     },
     "execution_count": 205,
     "metadata": {},
     "output_type": "execute_result"
    }
   ],
   "source": [
    "appnt_month_ar.sort_values(ascending=False)"
   ]
  },
  {
   "cell_type": "markdown",
   "id": "093c4a23",
   "metadata": {},
   "source": [
    "**Question 4**\\\n",
    "What was the total number of records per month?"
   ]
  },
  {
   "cell_type": "markdown",
   "id": "eb6b69c3",
   "metadata": {},
   "source": [
    "**Answer**\\\n",
    "The total number of records per month is shown in the output of the code snippet immediately below."
   ]
  },
  {
   "cell_type": "code",
   "execution_count": 212,
   "id": "81ab8fbd",
   "metadata": {
    "scrolled": true
   },
   "outputs": [
    {
     "data": {
      "text/plain": [
       "2020-03-01    21350\n",
       "2020-01-01    20889\n",
       "2021-11-01    20766\n",
       "2020-02-01    20689\n",
       "2021-10-01    20562\n",
       "2022-03-01    20532\n",
       "2021-09-01    20441\n",
       "2021-12-01    20393\n",
       "2022-05-01    20276\n",
       "2022-06-01    20231\n",
       "2022-01-01    20225\n",
       "2022-02-01    20133\n",
       "2020-10-01    20122\n",
       "2022-04-01    20073\n",
       "2020-09-01    20043\n",
       "2021-07-01    19899\n",
       "2021-06-01    19814\n",
       "2021-08-01    19786\n",
       "2020-11-01    19675\n",
       "2020-07-01    19502\n",
       "2021-04-01    19452\n",
       "2020-12-01    19394\n",
       "2021-05-01    19384\n",
       "2021-03-01    19369\n",
       "2021-01-01    19319\n",
       "2020-08-01    19247\n",
       "2020-04-01    19124\n",
       "2021-02-01    18949\n",
       "2020-06-01    18844\n",
       "2020-05-01    18338\n",
       "Name: appointment_month, dtype: int64"
      ]
     },
     "execution_count": 212,
     "metadata": {},
     "output_type": "execute_result"
    }
   ],
   "source": [
    "df_appointments_regional.appointment_month.value_counts()"
   ]
  },
  {
   "cell_type": "code",
   "execution_count": null,
   "id": "905118fa",
   "metadata": {},
   "outputs": [],
   "source": []
  }
 ],
 "metadata": {
  "kernelspec": {
   "display_name": "Python 3 (ipykernel)",
   "language": "python",
   "name": "python3"
  },
  "language_info": {
   "codemirror_mode": {
    "name": "ipython",
    "version": 3
   },
   "file_extension": ".py",
   "mimetype": "text/x-python",
   "name": "python",
   "nbconvert_exporter": "python",
   "pygments_lexer": "ipython3",
   "version": "3.9.12"
  }
 },
 "nbformat": 4,
 "nbformat_minor": 5
}

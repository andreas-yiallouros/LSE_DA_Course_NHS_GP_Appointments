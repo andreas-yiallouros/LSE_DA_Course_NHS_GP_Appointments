{
 "cells": [
  {
   "cell_type": "markdown",
   "id": "3d39851b",
   "metadata": {},
   "source": [
    "# Diagnostic Analysis of Data on NHS GP Appointments\n",
    "\n",
    "# Purpose\n",
    "\n",
    "The purpose of this notebook is to analyse the data on the UK public's appointments with General Practitioners (GPs) at the National Health Service (NHS). We want to get closer to understanding enough about why patients may miss appointments, and through this understanding enable decision makers at the NHS and the UK government reach decisions that will reduce the number of missed apppointments.\\\n",
    "\\\n",
    "For more on the purpose of this project, please read the project's [README file](https://github.com/andreas-yiallouros/LSE_DA_Course_NHS_GP_Appointments/blob/main/README.md). "
   ]
  },
  {
   "cell_type": "markdown",
   "id": "50037d2b",
   "metadata": {},
   "source": [
    "# Our data files\n",
    "To begin with, we had the following data files:\\\n",
    "\\\n",
    "Data:\n",
    "- *actual_duration.csv*\n",
    "- *appointments_regional.csv* \n",
    "- *national_categories.xlsx*\n",
    "\n",
    "Metadata:\n",
    "- *metadata_nhs.txt*\n",
    "\n",
    "A copy of these files is in our [GitHub repo](https://github.com/andreas-yiallouros/LSE_DA_Course_NHS_GP_Appointments)."
   ]
  },
  {
   "cell_type": "markdown",
   "id": "f9514419",
   "metadata": {},
   "source": [
    "# What does the metadata tell us?\n",
    "*metadata_nhs.txt* tells us about: \n",
    "- the quality of the data we have for our project\n",
    "- collectively what's in the three data files"
   ]
  },
  {
   "cell_type": "markdown",
   "id": "b34e8194",
   "metadata": {},
   "source": [
    "# A note on data quality\n",
    "The most important point to note is that our data was collected from systems that were designed to help manage appointments. Our data therefore, is different compared to what it would have been had it been collected by systems designed to enable analysis to inform policy decisions."
   ]
  },
  {
   "cell_type": "markdown",
   "id": "47288682",
   "metadata": {},
   "source": [
    "# What our data is about, and specific data quality issues\n",
    "At the start of our project, each of our three data files had been partially cleaned by for example removing columns that were considered irrelevant to our analysis.\\\n",
    "\\\n",
    "The data fields highlighted most prominently in the metadata file are:\n",
    "1. Appointment Status\n",
    "2. Healthcare Professional Type\n",
    "3. Mode of Appointment\n",
    "4. Time between Booking and Appointment\n",
    "\n",
    "Below we consider what the metadata tells us about each of these four data fields. This is important because it will help us focus our initial analysis.\n",
    "\n",
    "### (1) Appointment Status (appointment_status)\n",
    "The Appointment Status for each appointment changes over time moving from (1) 'Available' to (2) 'Booked' to (3) 'Attended' or 'Did Not Attend' or 'Cancelled'.\n",
    "\n",
    "<span style=\"color:purple\">Question:\n",
    "Do cancelled appointments revert to 'available'?</span>\n",
    "\n",
    "##### Two data issues are noted in the metadata file:\n",
    "1. For between 3% and 6% of appointments the final status of the appointment remains 'Booked'. The status of these appointments in our dataset is reported as 'Unknown'.\n",
    "2. Due to an issue with data collection, missed appointments are under-reported for the period from July 2018 until and including November 2018 (five months). ***Note:*** *We will use our analysis to evaluate the impact of this issue on the reliability of the missed appointments statistics.*\n",
    "\n",
    "<span style=\"color:purple\">Insight: If the appointments that continue showing as 'Booked' after the appointment time has lapsed are more likely to be in fact missed appointments, the missed appointments statistic will be understated. For example, if out of 100 appointments five are known to have been missed and three are shown as unknown, but in fact we know they have also been missed, the true rate of missed appointments would be 8% instead of the reported 5.2% (1 - 92/97).</span>\n",
    "\n",
    "### (2) Healthcare Professional (hcp_type)\n",
    "The healthcare professional type data point for each appointment is based on what's recorded as the occupation of the NHS employee attending the appointment. Due to data extraction issues our data shows only the value 'GP' and 'Other Practice Staff'. We are told in the metadata that a small proportion of GP appointments (for example some of the appointments with Trainee GPs or GP Partners) may be misclassified as appointments with other practice staff.\n",
    "\n",
    "<span style=\"color:purple\">Questions:\n",
    "- <span style=\"color:purple\">What is the definition of 'small' in 'small proportion of GP appointments'?\n",
    "- <span style=\"color:purple\">To what extent could this data issue impact the answer to our key questions about whether there has been adequate staff and capacity, and what was the utilisation of resources?</span>\n",
    "\n",
    "### (3) Mode of Appointment (appointment_mode)\n",
    "\n",
    "<span style=\"color:purple\">Insights: \n",
    "- <span style=\"color:purple\">The data on the mode of appointments (for example face-to-face, telephone, online, or home visits) is important because it could show us differences in the likelihood of appointments being missed depending on their mode. Knowing about such differences can inform decisions about reducing the rate of missed appointments.\n",
    "\n",
    "- <span style=\"color:purple\">Based on the metadata file there seem to be widespread data quality issues in how the mode of appointment is recorded.\n",
    "\n",
    "***Note:*** *We will consider the implications of these issues for the purposes of our analysis.*\n",
    "\n",
    "### (4) Time between Booking and Appointment (time_between_book_and_appointment)\n",
    "The metadata file doesn't mention quality issues for the data about the time elapsed between when the booking was made and when the appointment happened.\\\n",
    "\\\n",
    "<span style=\"color:purple\">Insight: It may be helpful for the purposes of our project to consider the relationship between this data point and the data on missed appointments. For example are appointments more likely to be missed when the elapsed time between booking and the appointment is longer?</span>"
   ]
  },
  {
   "cell_type": "markdown",
   "id": "b32909bf",
   "metadata": {},
   "source": [
    "# What could the rest of the data fields tell us?\n",
    "In this section, to further set the context for our data analysis, we consider what the metadata file tells us for the following data fields which are the the subject of the objectives for activity #2:\n",
    "1. Service settings\n",
    "2. Context types\n",
    "3. National categories\n",
    "\n",
    "## (1) Service settings\n",
    "The metadata for 'Service settings' seems more technical compared to that for the first four fields considered above. \n",
    "\n",
    "In my interpretation aided by Google searches for the terms ['GMS/PMS/APMS contracts'](https://www.bma.org.uk/advice-and-support/gp-practices/funding-and-contracts/gms-contract-and-pms-agreement-differences); ['Additional Roles Reimursement Scheme'](https://www.england.nhs.uk/gp/expanding-our-workforce/); and ['Extended Access Provision'](https://www.england.nhs.uk/statistics/statistical-work-areas/extended-access-general-practice/), a description of the four service settings could be:\n",
    "- **General Practice**: appointments delivering GP services in core contractual hours.\n",
    "- **Extended Access Provision**: appointments delivering GP services outside of core contractual hours, either in the early morning, evening or at weekends.\n",
    "- **Primary Care Network**: appointments delivering services by healthcare professionals other than GPs (for example 'clinical pharmacists', 'first contact physiotherapists', and 'health and wellbeing coaches')\n",
    "- **Other**: appointments delivering services at the GP surgery, but by other service providers. \n",
    "\n",
    "## (2) Context types\n",
    "'Context type' here refers to whether the appointment is an encounter with a patient or an activity which is part of patient care, but without the presence of the patient. I imagine an example of an activity which is part of patient care, but does not involve the presence of the patient might be the analysis of test results.\\\n",
    "\\\n",
    "The metadata suggest two 'Context types' plus an option to record the appointment as 'Unmapped' which would be used in case of an error in receiving the data or the data not captured.\\\n",
    "\\\n",
    "The two 'Context types' are:\n",
    "- 'Care Related Encounter'\n",
    "- 'Inconsistent Mapping'\n",
    "\n",
    "'Care Related Encounter' seems self-explanatory - an appointment attended by a patient and a healthcare provider.\\\n",
    "\\\n",
    "'Inconsistent Mapping' as explained by the metadata file refers to a recorded appointment that did not involve the attendance of a patient. The use of the term 'inconsistent' shows that the notion of a patient appointment is contradictory with the notion that the patient is not in attendance.\n",
    "\n",
    "## (3) National categories\n",
    "From the metadata this seems to relate to the reason why the patient needed the appointment. It includes 13 options, for example 'General Consultation Acute', 'General Consultation Routine', and 'Planned Clinical Procedure'.\n",
    "\n"
   ]
  },
  {
   "cell_type": "code",
   "execution_count": 1,
   "id": "293d138b",
   "metadata": {},
   "outputs": [],
   "source": [
    "# Import the relevant libraries.\n",
    "# Libraries selected based on the goals of the project and the data.\n",
    "# See the markdown cells above for more details.\n",
    "import numpy as np\n",
    "import pandas as pd\n",
    "import matplotlib as plt\n",
    "import seaborn as sns\n",
    "from bs4 import BeautifulSoup\n",
    "import datetime"
   ]
  },
  {
   "cell_type": "markdown",
   "id": "5ad7a519",
   "metadata": {},
   "source": [
    "# Creating and exploring our DataFrames"
   ]
  },
  {
   "cell_type": "markdown",
   "id": "3b362fb4",
   "metadata": {},
   "source": [
    "## (1) Actual Duration of Appointments"
   ]
  },
  {
   "cell_type": "code",
   "execution_count": 2,
   "id": "92c2b686",
   "metadata": {},
   "outputs": [],
   "source": [
    "# Create a DataFrame for 'actual_duration.csv'.\n",
    "# Choosing a longer more decriptive name for the DataFrame.\n",
    "df_actual_duration = pd.read_csv('actual_duration.csv')"
   ]
  },
  {
   "cell_type": "code",
   "execution_count": 3,
   "id": "924df20b",
   "metadata": {
    "scrolled": true
   },
   "outputs": [
    {
     "name": "stdout",
     "output_type": "stream",
     "text": [
      "<class 'pandas.core.frame.DataFrame'>\n",
      "RangeIndex: 137793 entries, 0 to 137792\n",
      "Data columns (total 8 columns):\n",
      " #   Column                     Non-Null Count   Dtype \n",
      "---  ------                     --------------   ----- \n",
      " 0   sub_icb_location_code      137793 non-null  object\n",
      " 1   sub_icb_location_ons_code  137793 non-null  object\n",
      " 2   sub_icb_location_name      137793 non-null  object\n",
      " 3   icb_ons_code               137793 non-null  object\n",
      " 4   region_ons_code            137793 non-null  object\n",
      " 5   appointment_date           137793 non-null  object\n",
      " 6   actual_duration            137793 non-null  object\n",
      " 7   count_of_appointments      137793 non-null  int64 \n",
      "dtypes: int64(1), object(7)\n",
      "memory usage: 8.4+ MB\n"
     ]
    },
    {
     "data": {
      "text/html": [
       "<div>\n",
       "<style scoped>\n",
       "    .dataframe tbody tr th:only-of-type {\n",
       "        vertical-align: middle;\n",
       "    }\n",
       "\n",
       "    .dataframe tbody tr th {\n",
       "        vertical-align: top;\n",
       "    }\n",
       "\n",
       "    .dataframe thead th {\n",
       "        text-align: right;\n",
       "    }\n",
       "</style>\n",
       "<table border=\"1\" class=\"dataframe\">\n",
       "  <thead>\n",
       "    <tr style=\"text-align: right;\">\n",
       "      <th></th>\n",
       "      <th>count_of_appointments</th>\n",
       "    </tr>\n",
       "  </thead>\n",
       "  <tbody>\n",
       "    <tr>\n",
       "      <th>count</th>\n",
       "      <td>137793.000000</td>\n",
       "    </tr>\n",
       "    <tr>\n",
       "      <th>mean</th>\n",
       "      <td>1219.080011</td>\n",
       "    </tr>\n",
       "    <tr>\n",
       "      <th>std</th>\n",
       "      <td>1546.902956</td>\n",
       "    </tr>\n",
       "    <tr>\n",
       "      <th>min</th>\n",
       "      <td>1.000000</td>\n",
       "    </tr>\n",
       "    <tr>\n",
       "      <th>25%</th>\n",
       "      <td>194.000000</td>\n",
       "    </tr>\n",
       "    <tr>\n",
       "      <th>50%</th>\n",
       "      <td>696.000000</td>\n",
       "    </tr>\n",
       "    <tr>\n",
       "      <th>75%</th>\n",
       "      <td>1621.000000</td>\n",
       "    </tr>\n",
       "    <tr>\n",
       "      <th>max</th>\n",
       "      <td>15400.000000</td>\n",
       "    </tr>\n",
       "  </tbody>\n",
       "</table>\n",
       "</div>"
      ],
      "text/plain": [
       "       count_of_appointments\n",
       "count          137793.000000\n",
       "mean             1219.080011\n",
       "std              1546.902956\n",
       "min                 1.000000\n",
       "25%               194.000000\n",
       "50%               696.000000\n",
       "75%              1621.000000\n",
       "max             15400.000000"
      ]
     },
     "execution_count": 3,
     "metadata": {},
     "output_type": "execute_result"
    }
   ],
   "source": [
    "# See the 'df_actual_duration' column names together with their data types.\n",
    "# See the 'df_actual_duration' descriptive statistics.\n",
    "df_actual_duration.info()\n",
    "df_actual_duration.describe()"
   ]
  },
  {
   "cell_type": "code",
   "execution_count": 32,
   "id": "e89a5e1e",
   "metadata": {},
   "outputs": [
    {
     "data": {
      "text/html": [
       "<div>\n",
       "<style scoped>\n",
       "    .dataframe tbody tr th:only-of-type {\n",
       "        vertical-align: middle;\n",
       "    }\n",
       "\n",
       "    .dataframe tbody tr th {\n",
       "        vertical-align: top;\n",
       "    }\n",
       "\n",
       "    .dataframe thead th {\n",
       "        text-align: right;\n",
       "    }\n",
       "</style>\n",
       "<table border=\"1\" class=\"dataframe\">\n",
       "  <thead>\n",
       "    <tr style=\"text-align: right;\">\n",
       "      <th></th>\n",
       "      <th>sub_icb_location_code</th>\n",
       "      <th>sub_icb_location_ons_code</th>\n",
       "      <th>sub_icb_location_name</th>\n",
       "      <th>icb_ons_code</th>\n",
       "      <th>region_ons_code</th>\n",
       "      <th>appointment_date</th>\n",
       "      <th>actual_duration</th>\n",
       "      <th>count_of_appointments</th>\n",
       "    </tr>\n",
       "  </thead>\n",
       "  <tbody>\n",
       "    <tr>\n",
       "      <th>0</th>\n",
       "      <td>00L</td>\n",
       "      <td>E38000130</td>\n",
       "      <td>NHS North East and North Cumbria ICB - 00L</td>\n",
       "      <td>E54000050</td>\n",
       "      <td>E40000012</td>\n",
       "      <td>01-Dec-21</td>\n",
       "      <td>31-60 Minutes</td>\n",
       "      <td>364</td>\n",
       "    </tr>\n",
       "    <tr>\n",
       "      <th>1</th>\n",
       "      <td>00L</td>\n",
       "      <td>E38000130</td>\n",
       "      <td>NHS North East and North Cumbria ICB - 00L</td>\n",
       "      <td>E54000050</td>\n",
       "      <td>E40000012</td>\n",
       "      <td>01-Dec-21</td>\n",
       "      <td>21-30 Minutes</td>\n",
       "      <td>619</td>\n",
       "    </tr>\n",
       "    <tr>\n",
       "      <th>2</th>\n",
       "      <td>00L</td>\n",
       "      <td>E38000130</td>\n",
       "      <td>NHS North East and North Cumbria ICB - 00L</td>\n",
       "      <td>E54000050</td>\n",
       "      <td>E40000012</td>\n",
       "      <td>01-Dec-21</td>\n",
       "      <td>6-10 Minutes</td>\n",
       "      <td>1698</td>\n",
       "    </tr>\n",
       "    <tr>\n",
       "      <th>3</th>\n",
       "      <td>00L</td>\n",
       "      <td>E38000130</td>\n",
       "      <td>NHS North East and North Cumbria ICB - 00L</td>\n",
       "      <td>E54000050</td>\n",
       "      <td>E40000012</td>\n",
       "      <td>01-Dec-21</td>\n",
       "      <td>Unknown / Data Quality</td>\n",
       "      <td>1277</td>\n",
       "    </tr>\n",
       "    <tr>\n",
       "      <th>4</th>\n",
       "      <td>00L</td>\n",
       "      <td>E38000130</td>\n",
       "      <td>NHS North East and North Cumbria ICB - 00L</td>\n",
       "      <td>E54000050</td>\n",
       "      <td>E40000012</td>\n",
       "      <td>01-Dec-21</td>\n",
       "      <td>16-20 Minutes</td>\n",
       "      <td>730</td>\n",
       "    </tr>\n",
       "    <tr>\n",
       "      <th>5</th>\n",
       "      <td>00L</td>\n",
       "      <td>E38000130</td>\n",
       "      <td>NHS North East and North Cumbria ICB - 00L</td>\n",
       "      <td>E54000050</td>\n",
       "      <td>E40000012</td>\n",
       "      <td>01-Dec-21</td>\n",
       "      <td>11-15 Minutes</td>\n",
       "      <td>1073</td>\n",
       "    </tr>\n",
       "    <tr>\n",
       "      <th>6</th>\n",
       "      <td>00L</td>\n",
       "      <td>E38000130</td>\n",
       "      <td>NHS North East and North Cumbria ICB - 00L</td>\n",
       "      <td>E54000050</td>\n",
       "      <td>E40000012</td>\n",
       "      <td>01-Dec-21</td>\n",
       "      <td>1-5 Minutes</td>\n",
       "      <td>1539</td>\n",
       "    </tr>\n",
       "    <tr>\n",
       "      <th>7</th>\n",
       "      <td>00L</td>\n",
       "      <td>E38000130</td>\n",
       "      <td>NHS North East and North Cumbria ICB - 00L</td>\n",
       "      <td>E54000050</td>\n",
       "      <td>E40000012</td>\n",
       "      <td>02-Dec-21</td>\n",
       "      <td>21-30 Minutes</td>\n",
       "      <td>601</td>\n",
       "    </tr>\n",
       "    <tr>\n",
       "      <th>8</th>\n",
       "      <td>00L</td>\n",
       "      <td>E38000130</td>\n",
       "      <td>NHS North East and North Cumbria ICB - 00L</td>\n",
       "      <td>E54000050</td>\n",
       "      <td>E40000012</td>\n",
       "      <td>02-Dec-21</td>\n",
       "      <td>Unknown / Data Quality</td>\n",
       "      <td>1391</td>\n",
       "    </tr>\n",
       "    <tr>\n",
       "      <th>9</th>\n",
       "      <td>00L</td>\n",
       "      <td>E38000130</td>\n",
       "      <td>NHS North East and North Cumbria ICB - 00L</td>\n",
       "      <td>E54000050</td>\n",
       "      <td>E40000012</td>\n",
       "      <td>02-Dec-21</td>\n",
       "      <td>11-15 Minutes</td>\n",
       "      <td>1139</td>\n",
       "    </tr>\n",
       "  </tbody>\n",
       "</table>\n",
       "</div>"
      ],
      "text/plain": [
       "  sub_icb_location_code sub_icb_location_ons_code  \\\n",
       "0                   00L                 E38000130   \n",
       "1                   00L                 E38000130   \n",
       "2                   00L                 E38000130   \n",
       "3                   00L                 E38000130   \n",
       "4                   00L                 E38000130   \n",
       "5                   00L                 E38000130   \n",
       "6                   00L                 E38000130   \n",
       "7                   00L                 E38000130   \n",
       "8                   00L                 E38000130   \n",
       "9                   00L                 E38000130   \n",
       "\n",
       "                        sub_icb_location_name icb_ons_code region_ons_code  \\\n",
       "0  NHS North East and North Cumbria ICB - 00L    E54000050       E40000012   \n",
       "1  NHS North East and North Cumbria ICB - 00L    E54000050       E40000012   \n",
       "2  NHS North East and North Cumbria ICB - 00L    E54000050       E40000012   \n",
       "3  NHS North East and North Cumbria ICB - 00L    E54000050       E40000012   \n",
       "4  NHS North East and North Cumbria ICB - 00L    E54000050       E40000012   \n",
       "5  NHS North East and North Cumbria ICB - 00L    E54000050       E40000012   \n",
       "6  NHS North East and North Cumbria ICB - 00L    E54000050       E40000012   \n",
       "7  NHS North East and North Cumbria ICB - 00L    E54000050       E40000012   \n",
       "8  NHS North East and North Cumbria ICB - 00L    E54000050       E40000012   \n",
       "9  NHS North East and North Cumbria ICB - 00L    E54000050       E40000012   \n",
       "\n",
       "  appointment_date         actual_duration  count_of_appointments  \n",
       "0        01-Dec-21           31-60 Minutes                    364  \n",
       "1        01-Dec-21           21-30 Minutes                    619  \n",
       "2        01-Dec-21            6-10 Minutes                   1698  \n",
       "3        01-Dec-21  Unknown / Data Quality                   1277  \n",
       "4        01-Dec-21           16-20 Minutes                    730  \n",
       "5        01-Dec-21           11-15 Minutes                   1073  \n",
       "6        01-Dec-21             1-5 Minutes                   1539  \n",
       "7        02-Dec-21           21-30 Minutes                    601  \n",
       "8        02-Dec-21  Unknown / Data Quality                   1391  \n",
       "9        02-Dec-21           11-15 Minutes                   1139  "
      ]
     },
     "execution_count": 32,
     "metadata": {},
     "output_type": "execute_result"
    }
   ],
   "source": [
    "# See the first ten rows.\n",
    "df_actual_duration.head(10)"
   ]
  },
  {
   "cell_type": "markdown",
   "id": "3c1d628c",
   "metadata": {},
   "source": [
    "### Insights\n",
    "* 'df_actual_duration' includes eight columns and 137,793 rows.\n",
    "* It seems to capture the count of appointments together with appointment dates and duration by location.\n",
    "* From a Google search 'icb' may stand for 'Integrated Care Board' and 'ons' may stand for 'Office for National Statistics'.\n",
    "* Seven columns have the data type 'object' and one ('count_of_appointments') has the data type 'integer'.\n",
    "* We will consider changing the data type for 'appointment_date'.\n",
    "* There seem to be no missing values.\n",
    "* We will investigate the possible presence of 'count_of_appointments' outliers, given the min value of 1 and the max value of 15,400 compared to the mean (1,219) and standard deviation (1,547).\n"
   ]
  },
  {
   "cell_type": "markdown",
   "id": "793d53cd",
   "metadata": {},
   "source": [
    "## (2) Regional Appointments"
   ]
  },
  {
   "cell_type": "code",
   "execution_count": 4,
   "id": "f986ac4e",
   "metadata": {},
   "outputs": [],
   "source": [
    "# Create a DataFrame for 'appointments_regional.csv'.\n",
    "# Choosing a longer more decriptive name for the DataFrame.\n",
    "df_appointments_regional = pd.read_csv('appointments_regional.csv')"
   ]
  },
  {
   "cell_type": "code",
   "execution_count": 5,
   "id": "f3450230",
   "metadata": {
    "scrolled": true
   },
   "outputs": [
    {
     "name": "stdout",
     "output_type": "stream",
     "text": [
      "<class 'pandas.core.frame.DataFrame'>\n",
      "RangeIndex: 596821 entries, 0 to 596820\n",
      "Data columns (total 7 columns):\n",
      " #   Column                             Non-Null Count   Dtype \n",
      "---  ------                             --------------   ----- \n",
      " 0   icb_ons_code                       596821 non-null  object\n",
      " 1   appointment_month                  596821 non-null  object\n",
      " 2   appointment_status                 596821 non-null  object\n",
      " 3   hcp_type                           596821 non-null  object\n",
      " 4   appointment_mode                   596821 non-null  object\n",
      " 5   time_between_book_and_appointment  596821 non-null  object\n",
      " 6   count_of_appointments              596821 non-null  int64 \n",
      "dtypes: int64(1), object(6)\n",
      "memory usage: 31.9+ MB\n"
     ]
    },
    {
     "data": {
      "text/html": [
       "<div>\n",
       "<style scoped>\n",
       "    .dataframe tbody tr th:only-of-type {\n",
       "        vertical-align: middle;\n",
       "    }\n",
       "\n",
       "    .dataframe tbody tr th {\n",
       "        vertical-align: top;\n",
       "    }\n",
       "\n",
       "    .dataframe thead th {\n",
       "        text-align: right;\n",
       "    }\n",
       "</style>\n",
       "<table border=\"1\" class=\"dataframe\">\n",
       "  <thead>\n",
       "    <tr style=\"text-align: right;\">\n",
       "      <th></th>\n",
       "      <th>count_of_appointments</th>\n",
       "    </tr>\n",
       "  </thead>\n",
       "  <tbody>\n",
       "    <tr>\n",
       "      <th>count</th>\n",
       "      <td>596821.000000</td>\n",
       "    </tr>\n",
       "    <tr>\n",
       "      <th>mean</th>\n",
       "      <td>1244.601857</td>\n",
       "    </tr>\n",
       "    <tr>\n",
       "      <th>std</th>\n",
       "      <td>5856.887042</td>\n",
       "    </tr>\n",
       "    <tr>\n",
       "      <th>min</th>\n",
       "      <td>1.000000</td>\n",
       "    </tr>\n",
       "    <tr>\n",
       "      <th>25%</th>\n",
       "      <td>7.000000</td>\n",
       "    </tr>\n",
       "    <tr>\n",
       "      <th>50%</th>\n",
       "      <td>47.000000</td>\n",
       "    </tr>\n",
       "    <tr>\n",
       "      <th>75%</th>\n",
       "      <td>308.000000</td>\n",
       "    </tr>\n",
       "    <tr>\n",
       "      <th>max</th>\n",
       "      <td>211265.000000</td>\n",
       "    </tr>\n",
       "  </tbody>\n",
       "</table>\n",
       "</div>"
      ],
      "text/plain": [
       "       count_of_appointments\n",
       "count          596821.000000\n",
       "mean             1244.601857\n",
       "std              5856.887042\n",
       "min                 1.000000\n",
       "25%                 7.000000\n",
       "50%                47.000000\n",
       "75%               308.000000\n",
       "max            211265.000000"
      ]
     },
     "execution_count": 5,
     "metadata": {},
     "output_type": "execute_result"
    }
   ],
   "source": [
    "# See the 'df_appointments_regional' column names together with their data types.\n",
    "# See the 'df_appointments_regional' descriptive statistics.\n",
    "df_appointments_regional.info()\n",
    "df_appointments_regional.describe()"
   ]
  },
  {
   "cell_type": "code",
   "execution_count": 33,
   "id": "679c79f3",
   "metadata": {},
   "outputs": [
    {
     "data": {
      "text/html": [
       "<div>\n",
       "<style scoped>\n",
       "    .dataframe tbody tr th:only-of-type {\n",
       "        vertical-align: middle;\n",
       "    }\n",
       "\n",
       "    .dataframe tbody tr th {\n",
       "        vertical-align: top;\n",
       "    }\n",
       "\n",
       "    .dataframe thead th {\n",
       "        text-align: right;\n",
       "    }\n",
       "</style>\n",
       "<table border=\"1\" class=\"dataframe\">\n",
       "  <thead>\n",
       "    <tr style=\"text-align: right;\">\n",
       "      <th></th>\n",
       "      <th>icb_ons_code</th>\n",
       "      <th>appointment_month</th>\n",
       "      <th>appointment_status</th>\n",
       "      <th>hcp_type</th>\n",
       "      <th>appointment_mode</th>\n",
       "      <th>time_between_book_and_appointment</th>\n",
       "      <th>count_of_appointments</th>\n",
       "    </tr>\n",
       "  </thead>\n",
       "  <tbody>\n",
       "    <tr>\n",
       "      <th>0</th>\n",
       "      <td>E54000034</td>\n",
       "      <td>2020-01</td>\n",
       "      <td>Attended</td>\n",
       "      <td>GP</td>\n",
       "      <td>Face-to-Face</td>\n",
       "      <td>1 Day</td>\n",
       "      <td>8107</td>\n",
       "    </tr>\n",
       "    <tr>\n",
       "      <th>1</th>\n",
       "      <td>E54000034</td>\n",
       "      <td>2020-01</td>\n",
       "      <td>Attended</td>\n",
       "      <td>GP</td>\n",
       "      <td>Face-to-Face</td>\n",
       "      <td>15  to 21 Days</td>\n",
       "      <td>6791</td>\n",
       "    </tr>\n",
       "    <tr>\n",
       "      <th>2</th>\n",
       "      <td>E54000034</td>\n",
       "      <td>2020-01</td>\n",
       "      <td>Attended</td>\n",
       "      <td>GP</td>\n",
       "      <td>Face-to-Face</td>\n",
       "      <td>2 to 7 Days</td>\n",
       "      <td>20686</td>\n",
       "    </tr>\n",
       "    <tr>\n",
       "      <th>3</th>\n",
       "      <td>E54000034</td>\n",
       "      <td>2020-01</td>\n",
       "      <td>Attended</td>\n",
       "      <td>GP</td>\n",
       "      <td>Face-to-Face</td>\n",
       "      <td>22  to 28 Days</td>\n",
       "      <td>4268</td>\n",
       "    </tr>\n",
       "    <tr>\n",
       "      <th>4</th>\n",
       "      <td>E54000034</td>\n",
       "      <td>2020-01</td>\n",
       "      <td>Attended</td>\n",
       "      <td>GP</td>\n",
       "      <td>Face-to-Face</td>\n",
       "      <td>8  to 14 Days</td>\n",
       "      <td>11971</td>\n",
       "    </tr>\n",
       "    <tr>\n",
       "      <th>5</th>\n",
       "      <td>E54000034</td>\n",
       "      <td>2020-01</td>\n",
       "      <td>Attended</td>\n",
       "      <td>GP</td>\n",
       "      <td>Face-to-Face</td>\n",
       "      <td>More than 28 Days</td>\n",
       "      <td>3273</td>\n",
       "    </tr>\n",
       "    <tr>\n",
       "      <th>6</th>\n",
       "      <td>E54000034</td>\n",
       "      <td>2020-01</td>\n",
       "      <td>Attended</td>\n",
       "      <td>GP</td>\n",
       "      <td>Face-to-Face</td>\n",
       "      <td>Same Day</td>\n",
       "      <td>64649</td>\n",
       "    </tr>\n",
       "    <tr>\n",
       "      <th>7</th>\n",
       "      <td>E54000034</td>\n",
       "      <td>2020-01</td>\n",
       "      <td>Attended</td>\n",
       "      <td>GP</td>\n",
       "      <td>Home Visit</td>\n",
       "      <td>1 Day</td>\n",
       "      <td>151</td>\n",
       "    </tr>\n",
       "    <tr>\n",
       "      <th>8</th>\n",
       "      <td>E54000034</td>\n",
       "      <td>2020-01</td>\n",
       "      <td>Attended</td>\n",
       "      <td>GP</td>\n",
       "      <td>Home Visit</td>\n",
       "      <td>15  to 21 Days</td>\n",
       "      <td>12</td>\n",
       "    </tr>\n",
       "    <tr>\n",
       "      <th>9</th>\n",
       "      <td>E54000034</td>\n",
       "      <td>2020-01</td>\n",
       "      <td>Attended</td>\n",
       "      <td>GP</td>\n",
       "      <td>Home Visit</td>\n",
       "      <td>2 to 7 Days</td>\n",
       "      <td>141</td>\n",
       "    </tr>\n",
       "  </tbody>\n",
       "</table>\n",
       "</div>"
      ],
      "text/plain": [
       "  icb_ons_code appointment_month appointment_status hcp_type appointment_mode  \\\n",
       "0    E54000034           2020-01           Attended       GP     Face-to-Face   \n",
       "1    E54000034           2020-01           Attended       GP     Face-to-Face   \n",
       "2    E54000034           2020-01           Attended       GP     Face-to-Face   \n",
       "3    E54000034           2020-01           Attended       GP     Face-to-Face   \n",
       "4    E54000034           2020-01           Attended       GP     Face-to-Face   \n",
       "5    E54000034           2020-01           Attended       GP     Face-to-Face   \n",
       "6    E54000034           2020-01           Attended       GP     Face-to-Face   \n",
       "7    E54000034           2020-01           Attended       GP       Home Visit   \n",
       "8    E54000034           2020-01           Attended       GP       Home Visit   \n",
       "9    E54000034           2020-01           Attended       GP       Home Visit   \n",
       "\n",
       "  time_between_book_and_appointment  count_of_appointments  \n",
       "0                             1 Day                   8107  \n",
       "1                    15  to 21 Days                   6791  \n",
       "2                       2 to 7 Days                  20686  \n",
       "3                    22  to 28 Days                   4268  \n",
       "4                     8  to 14 Days                  11971  \n",
       "5                 More than 28 Days                   3273  \n",
       "6                          Same Day                  64649  \n",
       "7                             1 Day                    151  \n",
       "8                    15  to 21 Days                     12  \n",
       "9                       2 to 7 Days                    141  "
      ]
     },
     "execution_count": 33,
     "metadata": {},
     "output_type": "execute_result"
    }
   ],
   "source": [
    "# See the first ten rows.\n",
    "df_appointments_regional.head(10)"
   ]
  },
  {
   "cell_type": "code",
   "execution_count": 6,
   "id": "22323c26",
   "metadata": {},
   "outputs": [
    {
     "name": "stdout",
     "output_type": "stream",
     "text": [
      "Count of appointment statuses:  3\n"
     ]
    }
   ],
   "source": [
    "# Answer to how many appointment statuses are represented in the data.\n",
    "count_apt_status = df_appointments_regional['appointment_status'].nunique()\n",
    "print(\"Count of appointment statuses: \", count_apt_status)"
   ]
  },
  {
   "cell_type": "code",
   "execution_count": 8,
   "id": "c78c4a60",
   "metadata": {},
   "outputs": [
    {
     "data": {
      "text/plain": [
       "['Attended', 'DNA', 'Unknown']"
      ]
     },
     "execution_count": 8,
     "metadata": {},
     "output_type": "execute_result"
    }
   ],
   "source": [
    "# Answer to what are the names of the three appointment statuses.\n",
    "pd.unique(df_appointments_regional['appointment_status']).tolist()"
   ]
  },
  {
   "cell_type": "code",
   "execution_count": 10,
   "id": "c8e4e915",
   "metadata": {},
   "outputs": [
    {
     "data": {
      "text/plain": [
       "Attended    0.388956\n",
       "Unknown     0.337327\n",
       "DNA         0.273717\n",
       "Name: appointment_status, dtype: float64"
      ]
     },
     "execution_count": 10,
     "metadata": {},
     "output_type": "execute_result"
    }
   ],
   "source": [
    "# Answer to how what is the count_of_appointments per appointment status.\n",
    "df_apt_count_by_status_norm = (\n",
    "    df_appointments_regional.appointment_status.value_counts(normalize=True))\n",
    "df_apt_count_by_status_norm"
   ]
  },
  {
   "cell_type": "markdown",
   "id": "efe0c1dc",
   "metadata": {},
   "source": [
    "### Insights\n",
    "* 'df_appointments_regional' has seven columns and 596,821 rows.\n",
    "* It seems to capture six data points by location (based on the 'icb_ons_code'): (1) the count_of_appointments together with (2) appointment_month, (3) status, (4) mode, (5) hcp ('healthcare professional type'), and (6) time_between_book_and_appointment.\n",
    "* Six columns have data type 'object' and one ('count_of_appointments') has data type 'integer'.\n",
    "* We will consider changing the data type for 'appointment_month' and 'time_between_book_and_appointment'.\n",
    "* There seem to be no missing values.\n",
    "* We will investigate the possible presence of 'count_of_appointments' outliers, given the min value of 1 and the max value of 211,265 compared to the mean (1,245) and standard deviation (5,857).\n",
    "* The status of 34% of appointments shows as 'Unknown' and for 27% it is shown as 'DNA' ('did not attend'). Both of these are higher than expected indicating possible data quality issues beyond those described in the metadata file. "
   ]
  },
  {
   "cell_type": "markdown",
   "id": "6d2b0162",
   "metadata": {},
   "source": [
    "## (3) National Categories"
   ]
  },
  {
   "cell_type": "code",
   "execution_count": 11,
   "id": "25c24565",
   "metadata": {
    "scrolled": true
   },
   "outputs": [],
   "source": [
    "# Create a DataFrame for 'national_categories.xlsx'.\n",
    "df_national_categories = pd.read_excel('national_categories.xlsx')"
   ]
  },
  {
   "cell_type": "code",
   "execution_count": 12,
   "id": "afa0b46a",
   "metadata": {},
   "outputs": [
    {
     "name": "stdout",
     "output_type": "stream",
     "text": [
      "<class 'pandas.core.frame.DataFrame'>\n",
      "RangeIndex: 817394 entries, 0 to 817393\n",
      "Data columns (total 8 columns):\n",
      " #   Column                 Non-Null Count   Dtype         \n",
      "---  ------                 --------------   -----         \n",
      " 0   appointment_date       817394 non-null  datetime64[ns]\n",
      " 1   icb_ons_code           817394 non-null  object        \n",
      " 2   sub_icb_location_name  817394 non-null  object        \n",
      " 3   service_setting        817394 non-null  object        \n",
      " 4   context_type           817394 non-null  object        \n",
      " 5   national_category      817394 non-null  object        \n",
      " 6   count_of_appointments  817394 non-null  int64         \n",
      " 7   appointment_month      817394 non-null  object        \n",
      "dtypes: datetime64[ns](1), int64(1), object(6)\n",
      "memory usage: 49.9+ MB\n"
     ]
    },
    {
     "data": {
      "text/html": [
       "<div>\n",
       "<style scoped>\n",
       "    .dataframe tbody tr th:only-of-type {\n",
       "        vertical-align: middle;\n",
       "    }\n",
       "\n",
       "    .dataframe tbody tr th {\n",
       "        vertical-align: top;\n",
       "    }\n",
       "\n",
       "    .dataframe thead th {\n",
       "        text-align: right;\n",
       "    }\n",
       "</style>\n",
       "<table border=\"1\" class=\"dataframe\">\n",
       "  <thead>\n",
       "    <tr style=\"text-align: right;\">\n",
       "      <th></th>\n",
       "      <th>count_of_appointments</th>\n",
       "    </tr>\n",
       "  </thead>\n",
       "  <tbody>\n",
       "    <tr>\n",
       "      <th>count</th>\n",
       "      <td>817394.000000</td>\n",
       "    </tr>\n",
       "    <tr>\n",
       "      <th>mean</th>\n",
       "      <td>362.183684</td>\n",
       "    </tr>\n",
       "    <tr>\n",
       "      <th>std</th>\n",
       "      <td>1084.576600</td>\n",
       "    </tr>\n",
       "    <tr>\n",
       "      <th>min</th>\n",
       "      <td>1.000000</td>\n",
       "    </tr>\n",
       "    <tr>\n",
       "      <th>25%</th>\n",
       "      <td>7.000000</td>\n",
       "    </tr>\n",
       "    <tr>\n",
       "      <th>50%</th>\n",
       "      <td>25.000000</td>\n",
       "    </tr>\n",
       "    <tr>\n",
       "      <th>75%</th>\n",
       "      <td>128.000000</td>\n",
       "    </tr>\n",
       "    <tr>\n",
       "      <th>max</th>\n",
       "      <td>16590.000000</td>\n",
       "    </tr>\n",
       "  </tbody>\n",
       "</table>\n",
       "</div>"
      ],
      "text/plain": [
       "       count_of_appointments\n",
       "count          817394.000000\n",
       "mean              362.183684\n",
       "std              1084.576600\n",
       "min                 1.000000\n",
       "25%                 7.000000\n",
       "50%                25.000000\n",
       "75%               128.000000\n",
       "max             16590.000000"
      ]
     },
     "execution_count": 12,
     "metadata": {},
     "output_type": "execute_result"
    }
   ],
   "source": [
    "# See the 'df_national_categories' column names together with their data types.\n",
    "# See the 'df_national_categories' descriptive statistics.\n",
    "df_national_categories.info()\n",
    "df_national_categories.describe()"
   ]
  },
  {
   "cell_type": "code",
   "execution_count": 36,
   "id": "908ac465",
   "metadata": {},
   "outputs": [
    {
     "data": {
      "text/html": [
       "<div>\n",
       "<style scoped>\n",
       "    .dataframe tbody tr th:only-of-type {\n",
       "        vertical-align: middle;\n",
       "    }\n",
       "\n",
       "    .dataframe tbody tr th {\n",
       "        vertical-align: top;\n",
       "    }\n",
       "\n",
       "    .dataframe thead th {\n",
       "        text-align: right;\n",
       "    }\n",
       "</style>\n",
       "<table border=\"1\" class=\"dataframe\">\n",
       "  <thead>\n",
       "    <tr style=\"text-align: right;\">\n",
       "      <th></th>\n",
       "      <th>appointment_date</th>\n",
       "      <th>icb_ons_code</th>\n",
       "      <th>sub_icb_location_name</th>\n",
       "      <th>service_setting</th>\n",
       "      <th>context_type</th>\n",
       "      <th>national_category</th>\n",
       "      <th>count_of_appointments</th>\n",
       "      <th>appointment_month</th>\n",
       "    </tr>\n",
       "  </thead>\n",
       "  <tbody>\n",
       "    <tr>\n",
       "      <th>0</th>\n",
       "      <td>2021-08-02</td>\n",
       "      <td>E54000050</td>\n",
       "      <td>NHS North East and North Cumbria ICB - 00L</td>\n",
       "      <td>Primary Care Network</td>\n",
       "      <td>Care Related Encounter</td>\n",
       "      <td>Patient contact during Care Home Round</td>\n",
       "      <td>3</td>\n",
       "      <td>2021-08</td>\n",
       "    </tr>\n",
       "    <tr>\n",
       "      <th>1</th>\n",
       "      <td>2021-08-02</td>\n",
       "      <td>E54000050</td>\n",
       "      <td>NHS North East and North Cumbria ICB - 00L</td>\n",
       "      <td>Other</td>\n",
       "      <td>Care Related Encounter</td>\n",
       "      <td>Planned Clinics</td>\n",
       "      <td>7</td>\n",
       "      <td>2021-08</td>\n",
       "    </tr>\n",
       "    <tr>\n",
       "      <th>2</th>\n",
       "      <td>2021-08-02</td>\n",
       "      <td>E54000050</td>\n",
       "      <td>NHS North East and North Cumbria ICB - 00L</td>\n",
       "      <td>General Practice</td>\n",
       "      <td>Care Related Encounter</td>\n",
       "      <td>Home Visit</td>\n",
       "      <td>79</td>\n",
       "      <td>2021-08</td>\n",
       "    </tr>\n",
       "    <tr>\n",
       "      <th>3</th>\n",
       "      <td>2021-08-02</td>\n",
       "      <td>E54000050</td>\n",
       "      <td>NHS North East and North Cumbria ICB - 00L</td>\n",
       "      <td>General Practice</td>\n",
       "      <td>Care Related Encounter</td>\n",
       "      <td>General Consultation Acute</td>\n",
       "      <td>725</td>\n",
       "      <td>2021-08</td>\n",
       "    </tr>\n",
       "    <tr>\n",
       "      <th>4</th>\n",
       "      <td>2021-08-02</td>\n",
       "      <td>E54000050</td>\n",
       "      <td>NHS North East and North Cumbria ICB - 00L</td>\n",
       "      <td>General Practice</td>\n",
       "      <td>Care Related Encounter</td>\n",
       "      <td>Structured Medication Review</td>\n",
       "      <td>2</td>\n",
       "      <td>2021-08</td>\n",
       "    </tr>\n",
       "    <tr>\n",
       "      <th>5</th>\n",
       "      <td>2021-08-02</td>\n",
       "      <td>E54000050</td>\n",
       "      <td>NHS North East and North Cumbria ICB - 00L</td>\n",
       "      <td>General Practice</td>\n",
       "      <td>Care Related Encounter</td>\n",
       "      <td>Care Home Visit</td>\n",
       "      <td>11</td>\n",
       "      <td>2021-08</td>\n",
       "    </tr>\n",
       "    <tr>\n",
       "      <th>6</th>\n",
       "      <td>2021-08-02</td>\n",
       "      <td>E54000050</td>\n",
       "      <td>NHS North East and North Cumbria ICB - 00L</td>\n",
       "      <td>Unmapped</td>\n",
       "      <td>Unmapped</td>\n",
       "      <td>Unmapped</td>\n",
       "      <td>372</td>\n",
       "      <td>2021-08</td>\n",
       "    </tr>\n",
       "    <tr>\n",
       "      <th>7</th>\n",
       "      <td>2021-08-02</td>\n",
       "      <td>E54000050</td>\n",
       "      <td>NHS North East and North Cumbria ICB - 00L</td>\n",
       "      <td>Primary Care Network</td>\n",
       "      <td>Care Related Encounter</td>\n",
       "      <td>Home Visit</td>\n",
       "      <td>4</td>\n",
       "      <td>2021-08</td>\n",
       "    </tr>\n",
       "    <tr>\n",
       "      <th>8</th>\n",
       "      <td>2021-08-02</td>\n",
       "      <td>E54000050</td>\n",
       "      <td>NHS North East and North Cumbria ICB - 00L</td>\n",
       "      <td>Other</td>\n",
       "      <td>Care Related Encounter</td>\n",
       "      <td>Clinical Triage</td>\n",
       "      <td>98</td>\n",
       "      <td>2021-08</td>\n",
       "    </tr>\n",
       "    <tr>\n",
       "      <th>9</th>\n",
       "      <td>2021-08-02</td>\n",
       "      <td>E54000050</td>\n",
       "      <td>NHS North East and North Cumbria ICB - 00L</td>\n",
       "      <td>Primary Care Network</td>\n",
       "      <td>Care Related Encounter</td>\n",
       "      <td>General Consultation Acute</td>\n",
       "      <td>35</td>\n",
       "      <td>2021-08</td>\n",
       "    </tr>\n",
       "  </tbody>\n",
       "</table>\n",
       "</div>"
      ],
      "text/plain": [
       "  appointment_date icb_ons_code                       sub_icb_location_name  \\\n",
       "0       2021-08-02    E54000050  NHS North East and North Cumbria ICB - 00L   \n",
       "1       2021-08-02    E54000050  NHS North East and North Cumbria ICB - 00L   \n",
       "2       2021-08-02    E54000050  NHS North East and North Cumbria ICB - 00L   \n",
       "3       2021-08-02    E54000050  NHS North East and North Cumbria ICB - 00L   \n",
       "4       2021-08-02    E54000050  NHS North East and North Cumbria ICB - 00L   \n",
       "5       2021-08-02    E54000050  NHS North East and North Cumbria ICB - 00L   \n",
       "6       2021-08-02    E54000050  NHS North East and North Cumbria ICB - 00L   \n",
       "7       2021-08-02    E54000050  NHS North East and North Cumbria ICB - 00L   \n",
       "8       2021-08-02    E54000050  NHS North East and North Cumbria ICB - 00L   \n",
       "9       2021-08-02    E54000050  NHS North East and North Cumbria ICB - 00L   \n",
       "\n",
       "        service_setting            context_type  \\\n",
       "0  Primary Care Network  Care Related Encounter   \n",
       "1                 Other  Care Related Encounter   \n",
       "2      General Practice  Care Related Encounter   \n",
       "3      General Practice  Care Related Encounter   \n",
       "4      General Practice  Care Related Encounter   \n",
       "5      General Practice  Care Related Encounter   \n",
       "6              Unmapped                Unmapped   \n",
       "7  Primary Care Network  Care Related Encounter   \n",
       "8                 Other  Care Related Encounter   \n",
       "9  Primary Care Network  Care Related Encounter   \n",
       "\n",
       "                        national_category  count_of_appointments  \\\n",
       "0  Patient contact during Care Home Round                      3   \n",
       "1                         Planned Clinics                      7   \n",
       "2                              Home Visit                     79   \n",
       "3              General Consultation Acute                    725   \n",
       "4            Structured Medication Review                      2   \n",
       "5                         Care Home Visit                     11   \n",
       "6                                Unmapped                    372   \n",
       "7                              Home Visit                      4   \n",
       "8                         Clinical Triage                     98   \n",
       "9              General Consultation Acute                     35   \n",
       "\n",
       "  appointment_month  \n",
       "0           2021-08  \n",
       "1           2021-08  \n",
       "2           2021-08  \n",
       "3           2021-08  \n",
       "4           2021-08  \n",
       "5           2021-08  \n",
       "6           2021-08  \n",
       "7           2021-08  \n",
       "8           2021-08  \n",
       "9           2021-08  "
      ]
     },
     "execution_count": 36,
     "metadata": {},
     "output_type": "execute_result"
    }
   ],
   "source": [
    "# See the first ten rows.\n",
    "df_national_categories.head(10)"
   ]
  },
  {
   "cell_type": "markdown",
   "id": "27613080",
   "metadata": {},
   "source": [
    "### Insights\n",
    "* 'df_national_categories' has eight columns and 817,394 rows.\n",
    "* It seems to capture six data points by location (based on the 'sub_icb_location_name'): (1) the count of appointments together with (2) appointment date; (3) appointment_month, (4) service_setting, (5) context_type, and (6) national_category.\n",
    "* Seven columns have data type 'object' and one ('count_of_appointments') has data type 'integer'.\n",
    "* We will consider changing the data type for 'appointment_month' and 'appointment_date'.\n",
    "* There seem to be no missing values.\n",
    "* We will investigate the possible presence of 'count_of_appointments' outliers, given the min value of 1 and the max value of 16,590 compared to the mean (362) and standard deviation (1,084)."
   ]
  },
  {
   "cell_type": "code",
   "execution_count": 13,
   "id": "963d761e",
   "metadata": {},
   "outputs": [
    {
     "name": "stdout",
     "output_type": "stream",
     "text": [
      "Count of locations:  106\n"
     ]
    }
   ],
   "source": [
    "# Answer how many locations are represented in the data.\n",
    "count_locations = df_national_categories['sub_icb_location_name'].nunique()\n",
    "print(\"Count of locations: \", count_locations)"
   ]
  },
  {
   "cell_type": "code",
   "execution_count": 14,
   "id": "2182bad4",
   "metadata": {},
   "outputs": [
    {
     "data": {
      "text/plain": [
       "NHS North West London ICB - W2U3Z              13007\n",
       "NHS Kent and Medway ICB - 91Q                  12637\n",
       "NHS Devon ICB - 15N                            12526\n",
       "NHS Hampshire and Isle Of Wight ICB - D9Y0V    12171\n",
       "NHS North East London ICB - A3A8R              11837\n",
       "Name: sub_icb_location_name, dtype: int64"
      ]
     },
     "execution_count": 14,
     "metadata": {},
     "output_type": "execute_result"
    }
   ],
   "source": [
    "# Answer which are the five locations with the highest number of records.\n",
    "df_locations = df_national_categories.sub_icb_location_name.value_counts()\n",
    "df_locations.head()"
   ]
  },
  {
   "cell_type": "code",
   "execution_count": 15,
   "id": "f1bfc4bd",
   "metadata": {},
   "outputs": [
    {
     "data": {
      "text/plain": [
       "NHS North West London ICB - W2U3Z              0.015913\n",
       "NHS Kent and Medway ICB - 91Q                  0.015460\n",
       "NHS Devon ICB - 15N                            0.015324\n",
       "NHS Hampshire and Isle Of Wight ICB - D9Y0V    0.014890\n",
       "NHS North East London ICB - A3A8R              0.014481\n",
       "Name: sub_icb_location_name, dtype: float64"
      ]
     },
     "execution_count": 15,
     "metadata": {},
     "output_type": "execute_result"
    }
   ],
   "source": [
    "# Five locations with the highest number of records in percentage terms.\n",
    "df_locations_norm = (\n",
    "    df_national_categories.sub_icb_location_name.value_counts(normalize=True))\n",
    "df_locations_norm.head()"
   ]
  },
  {
   "cell_type": "code",
   "execution_count": 16,
   "id": "b46799aa",
   "metadata": {},
   "outputs": [
    {
     "name": "stdout",
     "output_type": "stream",
     "text": [
      "Count of service settings:  5\n"
     ]
    }
   ],
   "source": [
    "# Answer how many service settings are represented in the data.\n",
    "count_service_settings = df_national_categories['service_setting'].nunique()\n",
    "print(\"Count of service settings: \", count_service_settings)"
   ]
  },
  {
   "cell_type": "code",
   "execution_count": 17,
   "id": "5e41d0d9",
   "metadata": {},
   "outputs": [
    {
     "name": "stdout",
     "output_type": "stream",
     "text": [
      "Count of context types:  3\n"
     ]
    }
   ],
   "source": [
    "# Answer how many context types are represented in the data.\n",
    "count_context_types = df_national_categories['context_type'].nunique()\n",
    "print(\"Count of context types: \", count_context_types)"
   ]
  },
  {
   "cell_type": "code",
   "execution_count": 18,
   "id": "60db0c5a",
   "metadata": {},
   "outputs": [
    {
     "name": "stdout",
     "output_type": "stream",
     "text": [
      "Count of national categories:  18\n"
     ]
    }
   ],
   "source": [
    "# Answer how many national categories are represented in the data.\n",
    "count_national_categories = df_national_categories['national_category'].nunique()\n",
    "print(\"Count of national categories: \", count_national_categories)"
   ]
  },
  {
   "cell_type": "code",
   "execution_count": 19,
   "id": "5e328e78",
   "metadata": {},
   "outputs": [
    {
     "data": {
      "text/plain": [
       "General Practice             0.439536\n",
       "Primary Care Network         0.224849\n",
       "Other                        0.169794\n",
       "Extended Access Provision    0.132276\n",
       "Unmapped                     0.033544\n",
       "Name: service_setting, dtype: float64"
      ]
     },
     "execution_count": 19,
     "metadata": {},
     "output_type": "execute_result"
    }
   ],
   "source": [
    "# Number of records by sevice setting in percentage terms.\n",
    "df_service_setting_norm = (\n",
    "    df_national_categories.service_setting.value_counts(normalize=True))\n",
    "df_service_setting_norm"
   ]
  },
  {
   "cell_type": "code",
   "execution_count": 20,
   "id": "89ddb928",
   "metadata": {},
   "outputs": [
    {
     "data": {
      "text/plain": [
       "Care Related Encounter    0.856969\n",
       "Inconsistent Mapping      0.109487\n",
       "Unmapped                  0.033544\n",
       "Name: context_type, dtype: float64"
      ]
     },
     "execution_count": 20,
     "metadata": {},
     "output_type": "execute_result"
    }
   ],
   "source": [
    "# Number of records by context type in percentage terms.\n",
    "df_context_type_norm = (\n",
    "    df_national_categories.context_type.value_counts(normalize=True))\n",
    "df_context_type_norm"
   ]
  },
  {
   "cell_type": "code",
   "execution_count": 21,
   "id": "6a6dbff7",
   "metadata": {},
   "outputs": [
    {
     "data": {
      "text/plain": [
       "Inconsistent Mapping                                                   0.109487\n",
       "General Consultation Routine                                           0.109285\n",
       "General Consultation Acute                                             0.103835\n",
       "Planned Clinics                                                        0.093503\n",
       "Clinical Triage                                                        0.091191\n",
       "Planned Clinical Procedure                                             0.072953\n",
       "Structured Medication Review                                           0.054401\n",
       "Service provided by organisation external to the practice              0.052722\n",
       "Home Visit                                                             0.051199\n",
       "Unplanned Clinical Activity                                            0.049444\n",
       "Patient contact during Care Home Round                                 0.035228\n",
       "Unmapped                                                               0.033544\n",
       "Care Home Visit                                                        0.032596\n",
       "Social Prescribing Service                                             0.032410\n",
       "Care Home Needs Assessment & Personalised Care and Support Planning    0.028756\n",
       "Non-contractual chargeable work                                        0.025564\n",
       "Walk-in                                                                0.017347\n",
       "Group Consultation and Group Education                                 0.006534\n",
       "Name: national_category, dtype: float64"
      ]
     },
     "execution_count": 21,
     "metadata": {},
     "output_type": "execute_result"
    }
   ],
   "source": [
    "# Number of records by national category in percentage terms.\n",
    "df_nat_cat_norm = (\n",
    "    df_national_categories.national_category.value_counts(normalize=True))\n",
    "df_nat_cat_norm"
   ]
  },
  {
   "cell_type": "markdown",
   "id": "c8301c80",
   "metadata": {},
   "source": [
    "# Other questions before we move on to Activity 3\n",
    "The following may help gain a deeper understanding of the data before we move on to Activity 3:\n",
    "1. Is the number of locations at sub-icb level as shown by 'sub_icb_location_name' and 'sub_icb_location_code' the same in 'df_actual_duration' as it is in 'df_national_categories'?\n",
    "2. Are the locations repreented by the 'icb_ons_code' data consistent across the three DataFrames? \n",
    "3. Why could we not have the 'sub_icb_location' breakdown in 'df_regional_appointments'?\n",
    "4. Is the count of appointments consistent across the three DataFrames?"
   ]
  },
  {
   "cell_type": "markdown",
   "id": "b4f0b82c",
   "metadata": {},
   "source": [
    "### Locations"
   ]
  },
  {
   "cell_type": "code",
   "execution_count": 24,
   "id": "3f4a6fd9",
   "metadata": {},
   "outputs": [
    {
     "name": "stdout",
     "output_type": "stream",
     "text": [
      "Count of locations:  106\n",
      "Count of locations in df_ad equals Count of locations in df_nc:  True\n"
     ]
    }
   ],
   "source": [
    "# Check whether the number of locations represented in 'df_national_categories'\n",
    "# is the same as the number of locations in 'df_actual_duration'.\n",
    "count_locations_ad = df_actual_duration['sub_icb_location_name'].nunique()\n",
    "print(\"Count of locations: \", count_locations_ad)\n",
    "print(\"Count of locations in df_ad equals Count of locations in df_nc: \",\n",
    "     count_locations == count_locations_ad)"
   ]
  },
  {
   "cell_type": "code",
   "execution_count": 25,
   "id": "a748d334",
   "metadata": {},
   "outputs": [
    {
     "name": "stdout",
     "output_type": "stream",
     "text": [
      "Count of sub_icb locations based on ons:  106\n"
     ]
    }
   ],
   "source": [
    "# Answer how many locations are represented in the data for 'sub_icb_location_ons_code'.\n",
    "count_sub_icb_locations_ons = df_actual_duration['sub_icb_location_ons_code'].nunique()\n",
    "print(\"Count of sub_icb locations based on ons: \", count_sub_icb_locations_ons)"
   ]
  },
  {
   "cell_type": "code",
   "execution_count": 27,
   "id": "f53c134b",
   "metadata": {},
   "outputs": [
    {
     "name": "stdout",
     "output_type": "stream",
     "text": [
      "Count of icb locations based on ons in 'df_actual_duration':  42\n"
     ]
    }
   ],
   "source": [
    "# Answer how many locations are represented in the data for 'icb_ons_code'\n",
    "# in df_actual_duration.\n",
    "count_icb_ons_ad = df_actual_duration['icb_ons_code'].nunique()\n",
    "print(\"Count of icb locations based on ons in 'df_actual_duration': \", count_icb_ons_ad)"
   ]
  },
  {
   "cell_type": "code",
   "execution_count": 28,
   "id": "04b5d90b",
   "metadata": {},
   "outputs": [
    {
     "name": "stdout",
     "output_type": "stream",
     "text": [
      "Count of icb locations based on ons in 'df_appointments_regional':  42\n"
     ]
    }
   ],
   "source": [
    "# Answer how many locations are represented in the data for 'icb_ons_code'\n",
    "# in df_appointments_regional.\n",
    "count_icb_ons_ra = df_appointments_regional['icb_ons_code'].nunique()\n",
    "print(\"Count of icb locations based on ons in 'df_appointments_regional': \", count_icb_ons_ra)"
   ]
  },
  {
   "cell_type": "code",
   "execution_count": 29,
   "id": "c460fc23",
   "metadata": {},
   "outputs": [
    {
     "name": "stdout",
     "output_type": "stream",
     "text": [
      "Count of icb locations based on ons in 'df_national_categories':  42\n"
     ]
    }
   ],
   "source": [
    "# Answer how many locations are represented in the data for 'icb_ons_code'\n",
    "# in df_national_categories.\n",
    "count_icb_ons_nc = df_national_categories['icb_ons_code'].nunique()\n",
    "print(\"Count of icb locations based on ons in 'df_national_categories': \", count_icb_ons_nc)"
   ]
  },
  {
   "cell_type": "markdown",
   "id": "8c47b7ce",
   "metadata": {},
   "source": [
    "### Timeframe"
   ]
  },
  {
   "cell_type": "code",
   "execution_count": 35,
   "id": "b1a1e9d8",
   "metadata": {},
   "outputs": [
    {
     "data": {
      "text/plain": [
       "['2020-01',\n",
       " '2020-02',\n",
       " '2020-03',\n",
       " '2020-04',\n",
       " '2020-05',\n",
       " '2020-06',\n",
       " '2020-07',\n",
       " '2020-08',\n",
       " '2020-09',\n",
       " '2020-10',\n",
       " '2020-11',\n",
       " '2020-12',\n",
       " '2021-01',\n",
       " '2021-02',\n",
       " '2021-03',\n",
       " '2021-04',\n",
       " '2021-05',\n",
       " '2021-06',\n",
       " '2021-07',\n",
       " '2021-08',\n",
       " '2021-09',\n",
       " '2021-10',\n",
       " '2021-11',\n",
       " '2021-12',\n",
       " '2022-01',\n",
       " '2022-02',\n",
       " '2022-03',\n",
       " '2022-04',\n",
       " '2022-05',\n",
       " '2022-06']"
      ]
     },
     "execution_count": 35,
     "metadata": {},
     "output_type": "execute_result"
    }
   ],
   "source": [
    "# Answer to what are the 'appointment month' categories.\n",
    "pd.unique(df_appointments_regional['appointment_month']).tolist()"
   ]
  },
  {
   "cell_type": "markdown",
   "id": "8ac5f702",
   "metadata": {},
   "source": [
    "### Appointments"
   ]
  },
  {
   "cell_type": "code",
   "execution_count": 31,
   "id": "580ebb6f",
   "metadata": {},
   "outputs": [
    {
     "data": {
      "text/plain": [
       "['31-60 Minutes',\n",
       " '21-30 Minutes',\n",
       " '6-10 Minutes',\n",
       " 'Unknown / Data Quality',\n",
       " '16-20 Minutes',\n",
       " '11-15 Minutes',\n",
       " '1-5 Minutes']"
      ]
     },
     "execution_count": 31,
     "metadata": {},
     "output_type": "execute_result"
    }
   ],
   "source": [
    "# Answer to what are the 'actual_duration' categories.\n",
    "pd.unique(df_actual_duration['actual_duration']).tolist()"
   ]
  },
  {
   "cell_type": "code",
   "execution_count": 34,
   "id": "095c22f4",
   "metadata": {},
   "outputs": [
    {
     "data": {
      "text/plain": [
       "['1 Day',\n",
       " '15  to 21 Days',\n",
       " '2 to 7 Days',\n",
       " '22  to 28 Days',\n",
       " '8  to 14 Days',\n",
       " 'More than 28 Days',\n",
       " 'Same Day',\n",
       " 'Unknown / Data Quality']"
      ]
     },
     "execution_count": 34,
     "metadata": {},
     "output_type": "execute_result"
    }
   ],
   "source": [
    "# Answer to what are the 'time_between_book_and_appointment' categories.\n",
    "pd.unique(df_appointments_regional['time_between_book_and_appointment']).tolist()"
   ]
  },
  {
   "cell_type": "code",
   "execution_count": 38,
   "id": "d57709d4",
   "metadata": {},
   "outputs": [
    {
     "data": {
      "text/plain": [
       "167980692"
      ]
     },
     "execution_count": 38,
     "metadata": {},
     "output_type": "execute_result"
    }
   ],
   "source": [
    "# Calculate the sum of appointments in 'df_actual_duration'\n",
    "np.sum(df_actual_duration['count_of_appointments'])"
   ]
  },
  {
   "cell_type": "code",
   "execution_count": 39,
   "id": "f07d15d7",
   "metadata": {},
   "outputs": [
    {
     "data": {
      "text/plain": [
       "742804525"
      ]
     },
     "execution_count": 39,
     "metadata": {},
     "output_type": "execute_result"
    }
   ],
   "source": [
    "# Calculate the sum of appointments in 'df_appointments_regional'\n",
    "np.sum(df_appointments_regional['count_of_appointments'])"
   ]
  },
  {
   "cell_type": "code",
   "execution_count": 40,
   "id": "a0659a38",
   "metadata": {},
   "outputs": [
    {
     "data": {
      "text/plain": [
       "296046770"
      ]
     },
     "execution_count": 40,
     "metadata": {},
     "output_type": "execute_result"
    }
   ],
   "source": [
    "# Calculate the sum of appointments in 'df_national_categories'\n",
    "np.sum(df_national_categories['count_of_appointments'])"
   ]
  },
  {
   "cell_type": "code",
   "execution_count": null,
   "id": "198e4dfd",
   "metadata": {},
   "outputs": [],
   "source": []
  }
 ],
 "metadata": {
  "kernelspec": {
   "display_name": "Python 3 (ipykernel)",
   "language": "python",
   "name": "python3"
  },
  "language_info": {
   "codemirror_mode": {
    "name": "ipython",
    "version": 3
   },
   "file_extension": ".py",
   "mimetype": "text/x-python",
   "name": "python",
   "nbconvert_exporter": "python",
   "pygments_lexer": "ipython3",
   "version": "3.9.12"
  }
 },
 "nbformat": 4,
 "nbformat_minor": 5
}
